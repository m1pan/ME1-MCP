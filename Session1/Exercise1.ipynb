{
 "cells": [
  {
   "cell_type": "code",
   "execution_count": 16,
   "id": "854ce0a1-6edb-4caf-9c68-8de2374bdb67",
   "metadata": {},
   "outputs": [
    {
     "name": "stdout",
     "output_type": "stream",
     "text": [
      "3\n"
     ]
    }
   ],
   "source": [
    "#Task A1\n",
    "a = 2\n",
    "b = 4\n",
    "c = a + b\n",
    "a = a + 1\n",
    "b = a\n",
    "c = a + b\n",
    "print(b)"
   ]
  },
  {
   "cell_type": "code",
   "execution_count": 6,
   "id": "33d8bc95-dfac-4d90-aa21-b9f860911550",
   "metadata": {
    "tags": []
   },
   "outputs": [
    {
     "name": "stdout",
     "output_type": "stream",
     "text": [
      "42\n"
     ]
    }
   ],
   "source": [
    "#Task A2\n",
    "x = 11\n",
    "y= -3\n",
    "z = 3*x + y**2\n",
    "print(z)"
   ]
  },
  {
   "cell_type": "code",
   "execution_count": 7,
   "id": "1216456d-40df-4b06-8bb0-9f8e3412969c",
   "metadata": {},
   "outputs": [
    {
     "name": "stdout",
     "output_type": "stream",
     "text": [
      "6.28\n",
      "3.14\n"
     ]
    }
   ],
   "source": [
    "#Task B1\n",
    "var = 3.14\n",
    "varcopy = var\n",
    "var = var * 2\n",
    "print(var)\n",
    "print(varcopy)"
   ]
  },
  {
   "cell_type": "code",
   "execution_count": 8,
   "id": "98f0907c-7d29-4328-a34a-b3f9d4564771",
   "metadata": {},
   "outputs": [
    {
     "name": "stdout",
     "output_type": "stream",
     "text": [
      "7\n"
     ]
    }
   ],
   "source": [
    "#Task B2\n",
    "MyPint = 3\n",
    "drink2more = 2\n",
    "MyPint += drink2more\n",
    "MyPint += drink2more\n",
    "print(MyPint)"
   ]
  },
  {
   "cell_type": "code",
   "execution_count": 9,
   "id": "48791907-6ee7-44bb-8bf6-a42fd828c504",
   "metadata": {},
   "outputs": [
    {
     "name": "stdout",
     "output_type": "stream",
     "text": [
      "0.75\n"
     ]
    }
   ],
   "source": [
    "#Task b3\n",
    "Num = 3\n",
    "Den = 4\n",
    "Res = Num / Den\n",
    "print(Res)"
   ]
  },
  {
   "cell_type": "code",
   "execution_count": 14,
   "id": "ad5cf919-9faf-46dd-97ce-2ecc949b2c85",
   "metadata": {},
   "outputs": [
    {
     "name": "stdout",
     "output_type": "stream",
     "text": [
      "a = 5\n",
      "b = 10\n",
      "c = 5\n",
      "a = 20\n",
      "b = 5\n",
      "c = 10\n"
     ]
    }
   ],
   "source": [
    "#Task C1\n",
    "a = 10\n",
    "b = 5\n",
    "temp = a\n",
    "a = b\n",
    "b = temp\n",
    "print(f\"a = {a}\")\n",
    "print(f\"b = {b}\")\n",
    "\n",
    "#Task C2\n",
    "c = 20\n",
    "temp = a\n",
    "a = c \n",
    "c = temp\n",
    "print(f\"c = {c}\")\n",
    "temp = c\n",
    "c = b\n",
    "b = temp\n",
    "print(f\"a = {a}\")\n",
    "print(f\"b = {b}\")\n",
    "print(f\"c = {c}\")"
   ]
  },
  {
   "cell_type": "code",
   "execution_count": 18,
   "id": "355bff8a-19c6-4a93-a219-1ee772f12392",
   "metadata": {},
   "outputs": [
    {
     "name": "stdout",
     "output_type": "stream",
     "text": [
      "5\n"
     ]
    }
   ],
   "source": [
    "#Task D\n",
    "a = \"2\"\n",
    "b = 2\n",
    "c = \"3\"\n",
    "d = 3\n",
    "g = a + c\n",
    "h = b + d\n",
    "a = int(a)\n",
    "c = int(c)\n",
    "m = a + c\n",
    "print(h)"
   ]
  },
  {
   "cell_type": "code",
   "execution_count": 26,
   "id": "310a20c3-2d33-49de-b1d9-4f7a1d046ea1",
   "metadata": {},
   "outputs": [
    {
     "name": "stdout",
     "output_type": "stream",
     "text": [
      "15\n",
      "E = [20, 11, 12, 13, 14, 23, 50, 26, 27, 28, 29, 30]\n",
      "B[2] = 22\n"
     ]
    }
   ],
   "source": [
    "#Task E\n",
    "A = [10, 11, 12, 13, 14, 15, 16, 17, 18, 19, 20]\n",
    "B = [20, 21, 22, 23, 24, 25, 26, 27, 28, 29, 30]\n",
    "\n",
    "B[4] = A[2] + A[3]\n",
    "B[5] = B[5] * 2\n",
    "\n",
    "tmp = A[0]\n",
    "A[0] = A[-1]\n",
    "A[-1] = tmp\n",
    "\n",
    "i = 3\n",
    "j = 5\n",
    "tmp = B[i]\n",
    "B[i] = A[j]\n",
    "A[j] = tmp\n",
    "print(B[3])\n",
    "\n",
    "#Task F\n",
    "C = A[:6]\n",
    "D = B[5:]\n",
    "E = C + D\n",
    "print(f\"E = {E}\")\n",
    "F = E[3:8]\n",
    "G = F + C\n",
    "C[1] = F[4] + C[4]\n",
    "C[-1] = F[-1] + C[0]\n",
    "print(f\"B[2] = {B[2]}\")\n",
    "\n"
   ]
  },
  {
   "cell_type": "code",
   "execution_count": null,
   "id": "c102b5b1-de12-4f71-b8e9-3e44fb68f801",
   "metadata": {},
   "outputs": [],
   "source": []
  }
 ],
 "metadata": {
  "kernelspec": {
   "display_name": "Python 3 (ipykernel)",
   "language": "python",
   "name": "python3"
  },
  "language_info": {
   "codemirror_mode": {
    "name": "ipython",
    "version": 3
   },
   "file_extension": ".py",
   "mimetype": "text/x-python",
   "name": "python",
   "nbconvert_exporter": "python",
   "pygments_lexer": "ipython3",
   "version": "3.9.12"
  }
 },
 "nbformat": 4,
 "nbformat_minor": 5
}
