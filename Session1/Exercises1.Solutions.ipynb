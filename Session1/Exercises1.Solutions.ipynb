{
 "cells": [
  {
   "cell_type": "code",
   "execution_count": 5,
   "metadata": {},
   "outputs": [
    {
     "name": "stdout",
     "output_type": "stream",
     "text": [
      "3\n"
     ]
    }
   ],
   "source": [
    "# Task A1\n",
    "a = 2\n",
    "b = 4\n",
    "c = a + b\n",
    "a = a + 1\n",
    "b = a\n",
    "c = a + b\n",
    "print(b)"
   ]
  },
  {
   "cell_type": "code",
   "execution_count": null,
   "metadata": {},
   "outputs": [],
   "source": [
    "# Task A2\n",
    "x = 11\n",
    "y = -3\n",
    "z = 3*x+y**2\n",
    "print(z)"
   ]
  },
  {
   "cell_type": "code",
   "execution_count": null,
   "metadata": {},
   "outputs": [],
   "source": [
    "# Task B1\n",
    "var = 3.14\n",
    "varcopy = var\n",
    "var = 2 * var\n",
    "print(var)\n",
    "\n",
    "# Task B2\n",
    "MyPints = 3\n",
    "drink2more = 2\n",
    "MyPints = MyPints + drink2more\n",
    "MyPints = MyPints + drink2more\n",
    "\n",
    "print(MyPints)\n",
    "# Task B3\n",
    "Num = 3\n",
    "Den = 4\n",
    "Res = Num / Den\n",
    "print(Res)"
   ]
  },
  {
   "cell_type": "code",
   "execution_count": null,
   "metadata": {},
   "outputs": [],
   "source": [
    "# Task C1\n",
    "a = 10\n",
    "b = 5\n",
    "temp = a\n",
    "a = b\n",
    "b = temp\n",
    "# Task C2\n",
    "c = 20\n",
    "temp = a\n",
    "a = c\n",
    "c = temp\n",
    "temp = c\n",
    "c = b\n",
    "b = temp\n",
    "print(a+c)"
   ]
  },
  {
   "cell_type": "code",
   "execution_count": null,
   "metadata": {},
   "outputs": [],
   "source": [
    "# Task D1\n",
    "a = \"2\"\n",
    "b = 2\n",
    "# Task D2\n",
    "f = a + b\n",
    "# Task D3\n",
    "c = \"3\"\n",
    "d = 3\n",
    "# Task D4\n",
    "g = a + c\n",
    "h = b + d\n",
    "# Task D5\n",
    "a = int(a)\n",
    "c = int(c)\n",
    "m = a + c"
   ]
  },
  {
   "cell_type": "code",
   "execution_count": 7,
   "metadata": {},
   "outputs": [
    {
     "name": "stdout",
     "output_type": "stream",
     "text": [
      "[10, 11, 12, 13, 14, 15, 16, 17, 18, 19, 20]\n",
      "[20, 21, 22, 23, 25, 50, 26, 27, 28, 29, 30]\n",
      "[20, 11, 12, 13, 14, 15, 16, 17, 18, 19, 10]\n",
      "A:\n",
      "[20, 11, 12, 13, 14, 23, 16, 17, 18, 19, 10]\n",
      "B:\n",
      "[20, 21, 22, 15, 25, 50, 26, 27, 28, 29, 30]\n"
     ]
    }
   ],
   "source": [
    "# Task E\n",
    "\n",
    "# 1\n",
    "A = [10, 11, 12, 13, 14, 15, 16, 17, 18, 19, 20]\n",
    "B = [20, 21, 22, 23, 24, 25, 26, 27, 28, 29, 30]\n",
    "\n",
    "# 2\n",
    "B[4] = A[2] + A[3]\n",
    "B[5] = B[5] * 2\n",
    "print(A)\n",
    "print(B)\n",
    "\n",
    "# 3\n",
    "N = len(A)\n",
    "temp = A[0]\n",
    "A[0] = A[N-1]\n",
    "A[N-1] = temp\n",
    "print(A)\n",
    "\n",
    "# 4\n",
    "i = 3\n",
    "j = 5\n",
    "temp = B[i]\n",
    "B[i] = A[j]\n",
    "A[j] = temp\n",
    "print('A:')\n",
    "print(A)\n",
    "print('B:')\n",
    "print(B)\n",
    "\n"
   ]
  },
  {
   "cell_type": "code",
   "execution_count": 10,
   "metadata": {},
   "outputs": [
    {
     "name": "stdout",
     "output_type": "stream",
     "text": [
      "[20, 11, 12, 13, 14, 23, 16, 17, 18, 19, 10]\n",
      "[20, 11, 12, 13, 14, 23]\n",
      "[20, 21, 22, 15, 25, 50, 26, 27, 28, 29, 30]\n",
      "[50, 26, 27, 28, 29, 30]\n",
      "[20, 11, 12, 13, 14, 23, 50, 26, 27, 28, 29, 30]\n",
      "[13, 14, 23, 50, 26]\n",
      "[13, 14, 23, 50, 26, 20, 11, 12, 13, 14, 23]\n",
      "[20, 11, 12, 13, 14, 23]\n",
      "[20, 40, 12, 13, 14, 23]\n",
      "[20, 40, 12, 13, 14, 23]\n",
      "C:\n",
      "[20, 40, 12, 13, 14, 46]\n",
      "[20, 21, 22, 15, 25, 50, 26, 27, 28, 29, 30]\n"
     ]
    }
   ],
   "source": [
    "# Task F\n",
    "\n",
    "# 1\n",
    "C = A[0:6]\n",
    "print(A)\n",
    "print(C)\n",
    "\n",
    "# 2\n",
    "D = B[len(B)-6:]\n",
    "print(B)\n",
    "print(D)\n",
    "      \n",
    "# 3\n",
    "E = C + D\n",
    "print(E)\n",
    "\n",
    "# 4\n",
    "F = E[3:8]\n",
    "print(F)\n",
    "\n",
    "\n",
    "#5\n",
    "G = F + C\n",
    "print(G)\n",
    "\n",
    "#6\n",
    "print(C)\n",
    "C[1] = F[4] + C[4]\n",
    "print(C)\n",
    "\n",
    "#7\n",
    "print(C)\n",
    "C[-1] = F[-1] + C[0]\n",
    "print('C:')\n",
    "print(C)\n",
    "\n",
    "print(B)"
   ]
  },
  {
   "cell_type": "code",
   "execution_count": null,
   "metadata": {},
   "outputs": [],
   "source": []
  },
  {
   "cell_type": "code",
   "execution_count": null,
   "metadata": {},
   "outputs": [],
   "source": []
  }
 ],
 "metadata": {
  "kernelspec": {
   "display_name": "Python 3 (ipykernel)",
   "language": "python",
   "name": "python3"
  },
  "language_info": {
   "codemirror_mode": {
    "name": "ipython",
    "version": 3
   },
   "file_extension": ".py",
   "mimetype": "text/x-python",
   "name": "python",
   "nbconvert_exporter": "python",
   "pygments_lexer": "ipython3",
   "version": "3.9.12"
  }
 },
 "nbformat": 4,
 "nbformat_minor": 4
}
