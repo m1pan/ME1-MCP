{
 "cells": [
  {
   "cell_type": "code",
   "execution_count": 38,
   "id": "78d5eeeb-01a2-4af3-a7fc-d23614d2cf26",
   "metadata": {},
   "outputs": [
    {
     "name": "stdout",
     "output_type": "stream",
     "text": [
      "10c\n",
      "('Harry Edward', '8d', 84)\n"
     ]
    }
   ],
   "source": [
    "Names = open(\"Names.txt\",\"r\")\n",
    "Groups = open(\"Groups.txt\",\"r\")\n",
    "Marks = open(\"Marks.txt\",\"r\")\n",
    "\n",
    "Students = []\n",
    "tmp = []\n",
    "tmp2 = []\n",
    "for line in Names:\n",
    "    Students.append((line.rstrip(),))\n",
    "for line in Groups:\n",
    "    tmp.append((line.rstrip(),))\n",
    "for line in Marks:\n",
    "    tmp2.append((int(line.rstrip()),))\n",
    "N = len(Students)\n",
    "for i in range(N):\n",
    "    Students[i] = Students[i] + tmp[i] + tmp2[i]\n",
    "\n",
    "#Task A    \n",
    "print(Students[10][1])\n",
    "\n",
    "#Task B\n",
    "for i in range(N):\n",
    "    for j in range(i+1, N):\n",
    "        if Students[j][2] > Students[i][2]:\n",
    "            (Students[i], Students[j]) = (Students[j], Students[i])\n",
    "print(Students[30])\n",
    "\n",
    "#Task C\n",
    "m = []\n",
    "l = []\n",
    "occ = []\n",
    "for i in range(N):\n",
    "    if Students[i][2] in m:\n",
    "        continue\n",
    "    else:\n",
    "        m.append(Students[i][2])\n",
    "        fucks = [Students[i][0]]\n",
    "        tmp = 1\n",
    "        for j in range(i+1, N):\n",
    "            if Students[j][2] == Students[i][2]:\n",
    "                tmp += 1\n",
    "                fucks.append(Students[j][0])\n",
    "        occ.append(tmp)\n",
    "        l.append(fucks)\n",
    "\n",
    "List = []\n",
    "for i in range(len(m)):\n",
    "    List.append((m[i], occ[i], l[i]))\n",
    "\n",
    "for i in range(len(List)):\n",
    "    if List[i][0] == 86:\n",
    "        print(List[i][1])\n",
    "        break\n",
    "\n",
    "Names.close()\n",
    "Groups.close()\n",
    "Marks.close()\n"
   ]
  },
  {
   "cell_type": "code",
   "execution_count": null,
   "id": "3267a86e-d324-4410-bfde-5a38c544d67c",
   "metadata": {},
   "outputs": [],
   "source": []
  },
  {
   "cell_type": "code",
   "execution_count": null,
   "id": "c235110a-fcfe-459f-81c0-121a9ea21230",
   "metadata": {},
   "outputs": [],
   "source": []
  }
 ],
 "metadata": {
  "kernelspec": {
   "display_name": "Python 3 (ipykernel)",
   "language": "python",
   "name": "python3"
  },
  "language_info": {
   "codemirror_mode": {
    "name": "ipython",
    "version": 3
   },
   "file_extension": ".py",
   "mimetype": "text/x-python",
   "name": "python",
   "nbconvert_exporter": "python",
   "pygments_lexer": "ipython3",
   "version": "3.9.13"
  }
 },
 "nbformat": 4,
 "nbformat_minor": 5
}
