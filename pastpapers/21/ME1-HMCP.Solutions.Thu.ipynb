{
 "cells": [
  {
   "cell_type": "markdown",
   "metadata": {},
   "source": [
    "# Final test Thu"
   ]
  },
  {
   "cell_type": "code",
   "execution_count": 1,
   "metadata": {},
   "outputs": [],
   "source": [
    "import random as rn\n",
    "import matplotlib.pyplot as pl\n",
    "import math as mt\n",
    "\n",
    "# CID\n",
    "cid= [0, 1, 8, 5, 6, 6, 6, 6]\n"
   ]
  },
  {
   "cell_type": "markdown",
   "metadata": {},
   "source": [
    "# Task A"
   ]
  },
  {
   "cell_type": "code",
   "execution_count": 2,
   "metadata": {},
   "outputs": [
    {
     "name": "stdout",
     "output_type": "stream",
     "text": [
      "[0, 0, 0, 0, 0, 0, 0, 6]\n",
      "[1, 0, 0, 0, 0, 0, 0, 6]\n",
      "[8, 0, 0, 0, 0, 0, 0, 6]\n",
      "[5, 0, 0, 0, 0, 0, 0, 6]\n",
      "[6, 0, 0, 0, 0, 0, 0, 5]\n",
      "[6, 0, 0, 0, 0, 0, 0, 8]\n",
      "[6, 0, 0, 0, 0, 0, 0, 1]\n",
      "[6, 0, 0, 0, 0, 0, 0, 0]\n",
      "\n",
      "[0, 1, 8, 5, 6, 6, 6, 6]\n",
      "[0, 0, 0, 0, 0, 0, 0, 0]\n",
      "[0, 0, 0, 0, 0, 0, 0, 0]\n",
      "[0, 0, 0, 0, 0, 0, 0, 0]\n",
      "[0, 0, 0, 0, 0, 0, 0, 0]\n",
      "[0, 0, 0, 0, 0, 0, 0, 0]\n",
      "[0, 0, 0, 0, 0, 0, 0, 0]\n",
      "[6, 6, 6, 6, 5, 8, 1, 0]\n",
      "\n",
      "[198, -72, -72, -72, -60, -96, -12, 168]\n",
      "[0, -37, -44, -41, -36, -54, -12, 0]\n",
      "[0, -44, -100, -76, -78, -96, -54, 0]\n",
      "[0, -41, -76, -61, -60, -78, -36, 0]\n",
      "[0, -36, -78, -60, -61, -76, -41, 0]\n",
      "[0, -54, -96, -78, -76, -100, -44, 0]\n",
      "[0, -12, -54, -36, -41, -44, -37, 0]\n",
      "[168, -12, -96, -60, -72, -72, -72, 198]\n"
     ]
    }
   ],
   "source": [
    "# form matrices A & B\n",
    "\n",
    "# initialise empty matrices\n",
    "A = []\n",
    "B = []\n",
    "for i in range(0,8):\n",
    "    # form rows\n",
    "    rowA = []\n",
    "    rowB = []\n",
    "    for j in range (0,8):\n",
    "        # form columns\n",
    "        \n",
    "        # set values to zero as default\n",
    "        vA = 0\n",
    "        vB = 0\n",
    "        # amend if on special positions\n",
    "        if j == 0:\n",
    "            # first column\n",
    "            vA = cid[i]\n",
    "        if j == 7:\n",
    "            # last column\n",
    "            vA = cid[-1-i]\n",
    "        if i == 0:\n",
    "            # first row\n",
    "            vB = cid[j]\n",
    "        if i == 7:\n",
    "            # last row\n",
    "            vB = cid[-1-j]\n",
    "        # add these elements to current row (for A and B)    \n",
    "        rowA += [vA]\n",
    "        rowB += [vB]\n",
    "    # add formed row  \n",
    "    A += [rowA]\n",
    "    B += [rowB]\n",
    "    \n",
    "# print to check\n",
    "for row in A:\n",
    "    print(row)\n",
    "print('')\n",
    "for row in B:\n",
    "    print(row)\n",
    "    \n",
    "# I am going to compute first:\n",
    "# C1 = A-B and C2 = A+B\n",
    "C1 = []\n",
    "C2 = []\n",
    "for i in range(0,8):\n",
    "    # form rows\n",
    "    rowC1 = []\n",
    "    rowC2 = []\n",
    "    for j in range (0,8):\n",
    "        # form columns\n",
    "        rowC1 += [A[i][j]+B[i][j]]  # A + B\n",
    "        rowC2 += [A[i][j]-B[i][j]]  # A - B\n",
    "    C1 += [rowC1]\n",
    "    C2 += [rowC2] \n",
    "    \n",
    "# compute matrix-matrix product D = C1*C2, as in Maths notes\n",
    "D = []\n",
    "for i in range(0,8):\n",
    "    row = []\n",
    "    for j in range (0,8):\n",
    "        # compute D[i][j]\n",
    "        s = 0\n",
    "        for k in range(0,8):\n",
    "            s += C1[i][k]*C2[k][j]\n",
    "        row += [s]\n",
    "    D += [row]    \n",
    "\n",
    "print('')\n",
    "for row in D:\n",
    "    print(row)\n",
    "    \n"
   ]
  },
  {
   "cell_type": "markdown",
   "metadata": {},
   "source": [
    "# Task B"
   ]
  },
  {
   "cell_type": "code",
   "execution_count": null,
   "metadata": {},
   "outputs": [],
   "source": [
    "# number of points\n",
    "N = 10000\n",
    "s = 0.1 + cid[5]/20\n",
    "\n",
    "Nin = 0  # number of points inside the bell\n",
    "Nout = 0 # number of points outside the bell\n",
    "# I am storing all teh points in lists, to plot all of them later\n",
    "xi = []  # x coordinates of points inside\n",
    "yi = []  # y coordinates of points inside\n",
    "xo = []  # x coordinates of points outside\n",
    "yo = []  # y coordinates of points outside\n",
    "\n",
    "# generate N points\n",
    "for i in range(0,N):\n",
    "    # generate random coordinates between 0 and 1\n",
    "    x = rn.random()\n",
    "    y = rn.random()\n",
    "    # evaluate if y is under the bell\n",
    "    if y < mt.exp(-(x-0.5)**2/s**2):\n",
    "        # count as under the bell\n",
    "        Nin += 1\n",
    "        # add to list of points under the bell\n",
    "        xi += [x]\n",
    "        yi += [y]\n",
    "    else:\n",
    "        # count as outiside the bell\n",
    "        Nout += 1\n",
    "        # add to list of points outside the bell\n",
    "        xo += [x]\n",
    "        yo += [y]\n",
    "\n",
    "# get the ratio of teh two areas\n",
    "print(Nin/Nout)\n",
    "# plot\n",
    "pl.scatter(xi,yi,s=1,c='b')\n",
    "pl.scatter(xo,yo,s=1,c='r')\n",
    "# plot the bell\n",
    "y = []\n",
    "for x in xi:\n",
    "    y += [mt.exp(-(x-0.5)**2/s**2)]\n",
    "pl.scatter(xi,y,s=1,c='g')"
   ]
  },
  {
   "cell_type": "markdown",
   "metadata": {},
   "source": [
    "# Task C"
   ]
  },
  {
   "cell_type": "code",
   "execution_count": 7,
   "metadata": {},
   "outputs": [
    {
     "name": "stdout",
     "output_type": "stream",
     "text": [
      "26366879\n",
      "2141368\n",
      "20/03/2021\n",
      "13859388\n",
      "14648859\n"
     ]
    },
    {
     "data": {
      "image/png": "[encoded data removed]",
      "text/plain": [
       "<Figure size 432x288 with 1 Axes>"
      ]
     },
     "metadata": {
      "needs_background": "light"
     },
     "output_type": "display_data"
    }
   ],
   "source": [
    "# read the file\n",
    "f = open('Vax.txt','r')\n",
    "tmp = f.readlines()  # temp list with all values in the file\n",
    "f.close()\n",
    "\n",
    "# calculate the number of days\n",
    "Nd = int(len(tmp)/5)\n",
    "\n",
    "\n",
    "# organise the data\n",
    "# save data to plot in a list\n",
    "fd = []  # daily total first dose\n",
    "sd = []  # daily total second dose\n",
    "days = [] # dates of days\n",
    "# set counters\n",
    "c = 0 # poistion of scrolling temp list\n",
    "fdtot = 0 # cumulative first dose\n",
    "sdtot = 0 # cumulative second dose\n",
    "largest = 0 # largest day inoculations\n",
    "dlargest = 0 # day with largest number of inoculations\n",
    "pftot = 0 # cumulative Pfizer\n",
    "aztot = 0 # cumulative AstraZeneca\n",
    "# repeat for every day\n",
    "for d in range(0,Nd):\n",
    "    # read the date of the day\n",
    "    days += [tmp[c].strip()]\n",
    "    c += 1\n",
    "    # initialise daily total of first and second doses\n",
    "    fdaytot = 0\n",
    "    sdaytot = 0\n",
    "    # read First dose vaccinations with Pfizer\n",
    "    fdtot +=  int(tmp[c]) # add to cumulative first dose\n",
    "    pftot +=  int(tmp[c]) # add to cumulative Pfizer\n",
    "    fdaytot += int(tmp[c]) # add to daily tot first dose\n",
    "    c += 1\n",
    "    # read First dose vaccinations with AstraZeneca\n",
    "    fdtot +=  int(tmp[c]) # add to cumulative first dose\n",
    "    aztot +=  int(tmp[c]) # add to cumulative AZ\n",
    "    fdaytot += int(tmp[c]) # add to daily tot first dose\n",
    "    c += 1   \n",
    "    # read Second dose vaccinations with Pfizer\n",
    "    sdtot +=  int(tmp[c]) # add to cumulative second dose\n",
    "    pftot +=  int(tmp[c]) # add to cumulative Pfizer\n",
    "    sdaytot += int(tmp[c]) # add to daily tot second dose\n",
    "    c += 1   \n",
    "    # read Second dose vaccinations AstraZeneca\n",
    "    sdtot +=  int(tmp[c])  # add to cumulative second dose\n",
    "    aztot +=  int(tmp[c])  # add to cumulative AZ\n",
    "    sdaytot += int(tmp[c]) # add to daily tot second dose\n",
    "    c += 1\n",
    "    # daily total inoculations\n",
    "    daytot = fdaytot + sdaytot\n",
    "    # check if this day inoculation is larger than any previous\n",
    "    if daytot > largest:\n",
    "        # today was larger than the largestso far\n",
    "        # record this date\n",
    "        dlargest = days[d]\n",
    "        # update the largest number so far \n",
    "        largest = daytot\n",
    "    # add daily cumulative first and second doses to list, for plots\n",
    "    fd += [fdaytot]\n",
    "    sd += [sdaytot]\n",
    "    \n",
    "# print\n",
    "print(fdtot)\n",
    "print(sdtot)\n",
    "print(dlargest)\n",
    "print(pftot)\n",
    "print(aztot)\n",
    "\n",
    "# plot\n",
    "pl.bar(days,fd)\n",
    "pl.bar(days,sd)\n",
    "pl.grid()"
   ]
  },
  {
   "cell_type": "markdown",
   "metadata": {},
   "source": [
    "# Task D"
   ]
  },
  {
   "cell_type": "code",
   "execution_count": 3,
   "metadata": {},
   "outputs": [
    {
     "data": {
      "image/png": "[encoded data removed]",
      "text/plain": [
       "<Figure size 432x288 with 1 Axes>"
      ]
     },
     "metadata": {
      "needs_background": "light"
     },
     "output_type": "display_data"
    }
   ],
   "source": [
    "def Series(N):\n",
    "    a = 3\n",
    "    P = 0\n",
    "    # outer sum from 1 to N (included)\n",
    "    for i in range(1,N+1):\n",
    "        s = 0\n",
    "        # inner sum\n",
    "        for k in range (1,i+1):\n",
    "            s += (a+10)**(k-3)\n",
    "        P += s/mt.factorial(i-1)\n",
    "    return P\n",
    "\n",
    "\n",
    "P = []  # list of P for various N\n",
    "Nx = []  # list of N values\n",
    "# loop for N\n",
    "for N in range(1,51):\n",
    "    # compute P for this N\n",
    "    P += [Series(N)]\n",
    "    Nx += [N]\n",
    "\n",
    "\n",
    "pl.plot(Nx,P)\n",
    "pl.grid()\n"
   ]
  },
  {
   "cell_type": "code",
   "execution_count": null,
   "metadata": {},
   "outputs": [],
   "source": []
  }
 ],
 "metadata": {
  "kernelspec": {
   "display_name": "Python 3",
   "language": "python",
   "name": "python3"
  },
  "language_info": {
   "codemirror_mode": {
    "name": "ipython",
    "version": 3
   },
   "file_extension": ".py",
   "mimetype": "text/x-python",
   "name": "python",
   "nbconvert_exporter": "python",
   "pygments_lexer": "ipython3",
   "version": "3.7.4"
  }
 },
 "nbformat": 4,
 "nbformat_minor": 2
}
