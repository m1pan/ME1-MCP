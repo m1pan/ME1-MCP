{
 "cells": [
  {
   "cell_type": "code",
   "execution_count": 17,
   "id": "d3bd1df0-f4b7-48dc-ac94-2ed2eabb7c38",
   "metadata": {},
   "outputs": [
    {
     "name": "stdout",
     "output_type": "stream",
     "text": [
      "249176\n"
     ]
    }
   ],
   "source": [
    "sum = 0\n",
    "for i in range(1,1052, 2):\n",
    "    if not 500 <= i <= 600:\n",
    "        sum += i\n",
    "\n",
    "print(sum)"
   ]
  },
  {
   "cell_type": "code",
   "execution_count": 22,
   "id": "b72ca34a-7d1c-4aad-8338-5551d57a8cb9",
   "metadata": {},
   "outputs": [
    {
     "name": "stdout",
     "output_type": "stream",
     "text": [
      "y\n",
      "FaroukSarahCarinaDorukAfxentisJoeYunjaeAnnieNoahJessicaSarahGovarthanFrancescoOmarAngusDavenMuhammadChristianDejanNaaZoeZachariasYueZhenghaoAmirChristianHonLouiseIvanYinghaoJacksonHelenaIsaacMacsenShivaJoshYutengAlexanderAliHonJulieAmandaXueEricaChristopherShivJacobFanyiAndreasMattiLazarosWilliamAlexanderStephenYiOliverJiajunTaliaAmyMarcusDylanRezaJamesEdwardPayaJumanaJamieBassamOliverHanZhengMariaAmyClarissaKangIshaanAnClementJakobPerdanaJingchuanPaddyJamesJishnuKanganFeyziNicholasKrishnavShahmeerKacperAnnetteMaheshIsabelleAbdiganiAlbertDawidSimritGeorgeKaiMatthewYafetAtulitAgostinhoLucZhuangfeiAmarjotAustinGiuliaBhumVorapholAjayOtterLukeShriramCarolineMeinEstherIsoldeDarcieaAnnabelGovinDipeshStevenWaiMatthewRohanSaraMichelleIsabelaAbhishekPhyoArchieChristopherKonstantinosSheikhJackShijieMohammedJanithiJakubYuhaiShananthanLingjieAnthonyAngelaChloeIonutBenjaminNathanielLucasIgorSuheybMohamedSarthakNingyuanJinweiNaveenTzeZenMihirYaashieneLaurenAlexanderMerrillBentonIsaacVishalGeorgeZiyuZeJichuanTszAlexandra\n",
      "173\n"
     ]
    }
   ],
   "source": [
    "names = open(\"Names.txt\", \"r\")\n",
    "long = \"\"\n",
    "count = 0\n",
    "for i in names:\n",
    "    long += i.rstrip()\n",
    "    count+= 1\n",
    "print(long[334])\n",
    "print(long)\n",
    "print(count)\n",
    "names.close()"
   ]
  },
  {
   "cell_type": "code",
   "execution_count": 13,
   "id": "50c9ab35-579c-4956-9a4f-a94901d4fae5",
   "metadata": {},
   "outputs": [
    {
     "name": "stdout",
     "output_type": "stream",
     "text": [
      "Atulit\n"
     ]
    }
   ],
   "source": [
    "names = open(\"Names.txt\", \"r\")\n",
    "list = []\n",
    "for i in names:\n",
    "    list.append(i.rstrip())\n",
    "list.sort()\n",
    "print(list[25])"
   ]
  },
  {
   "cell_type": "code",
   "execution_count": 14,
   "id": "26e57f4e-6f1a-43db-b512-46ae6b8f9d93",
   "metadata": {},
   "outputs": [
    {
     "name": "stdout",
     "output_type": "stream",
     "text": [
      "64\n"
     ]
    }
   ],
   "source": [
    "a = False\n",
    "b = 10\n",
    "c = 200\n",
    "i = 0\n",
    "while not a and b <= c:\n",
    "    b = b + 3\n",
    "    i += 1\n",
    "print(i)"
   ]
  },
  {
   "cell_type": "code",
   "execution_count": 16,
   "id": "af0c78e5-d90d-446d-a5d0-e1399e2a1678",
   "metadata": {},
   "outputs": [
    {
     "name": "stdout",
     "output_type": "stream",
     "text": [
      "249176\n"
     ]
    }
   ],
   "source": [
    "sum = 0\n",
    "\n",
    "# Loop through all the numbers from 1 to 1051\n",
    "for i in range(1, 1052):\n",
    "  # If the number is odd and not between 500 and 600, add it to the sum\n",
    "  if i % 2 == 1 and (i < 500 or i > 600):\n",
    "    sum += i\n",
    "\n",
    "print(sum)"
   ]
  },
  {
   "cell_type": "code",
   "execution_count": 23,
   "id": "44b53821-ce51-4369-94d0-2b42c3530976",
   "metadata": {},
   "outputs": [
    {
     "name": "stdout",
     "output_type": "stream",
     "text": [
      "[(1, 2, 2), (2, 1), (1, 2, 2)]\n"
     ]
    }
   ],
   "source": [
    "b = 2\n",
    "b = (1,2,b)\n",
    "b = [b,(2,1),b]\n",
    "print(b)"
   ]
  },
  {
   "cell_type": "code",
   "execution_count": null,
   "id": "65fb8fec-4c48-49ef-a95d-be235e3044c5",
   "metadata": {},
   "outputs": [],
   "source": []
  }
 ],
 "metadata": {
  "kernelspec": {
   "display_name": "Python 3 (ipykernel)",
   "language": "python",
   "name": "python3"
  },
  "language_info": {
   "codemirror_mode": {
    "name": "ipython",
    "version": 3
   },
   "file_extension": ".py",
   "mimetype": "text/x-python",
   "name": "python",
   "nbconvert_exporter": "python",
   "pygments_lexer": "ipython3",
   "version": "3.9.12"
  }
 },
 "nbformat": 4,
 "nbformat_minor": 5
}
