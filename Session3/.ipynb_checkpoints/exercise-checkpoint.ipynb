{
 "cells": [
  {
   "cell_type": "code",
   "execution_count": 5,
   "id": "9335497a-5467-4ddc-9986-5a6278244440",
   "metadata": {
    "tags": []
   },
   "outputs": [
    {
     "name": "stdin",
     "output_type": "stream",
     "text": [
      "N:  150\n"
     ]
    },
    {
     "name": "stdout",
     "output_type": "stream",
     "text": [
      "1136275\n"
     ]
    }
   ],
   "source": [
    "#Task A1\n",
    "N = int(input(\"N: \"))\n",
    "sum = 0\n",
    "for i in range(1, N+1):\n",
    "    sum += i **2\n",
    "print(sum)"
   ]
  },
  {
   "cell_type": "code",
   "execution_count": 9,
   "id": "50a8627a-2703-45ef-ab58-666dc0f8327e",
   "metadata": {},
   "outputs": [
    {
     "name": "stdin",
     "output_type": "stream",
     "text": [
      "N:  3\n"
     ]
    },
    {
     "name": "stdout",
     "output_type": "stream",
     "text": [
      "10\n"
     ]
    }
   ],
   "source": [
    "#Task A2\n",
    "import random as ran\n",
    "N = int(input(\"N: \"))\n",
    "score = 0\n",
    "for i in range(N):\n",
    "    score += int(ran.random()*6)\n",
    "print(score)\n"
   ]
  },
  {
   "cell_type": "code",
   "execution_count": 15,
   "id": "e9f32aec-6ed5-4161-b276-8f06614ce93d",
   "metadata": {},
   "outputs": [
    {
     "name": "stdin",
     "output_type": "stream",
     "text": [
      "N:  4\n"
     ]
    },
    {
     "name": "stdout",
     "output_type": "stream",
     "text": [
      "24\n"
     ]
    }
   ],
   "source": [
    "#Task A3\n",
    "N = int(input(\"N: \"))\n",
    "fac = 1\n",
    "while N > 1:\n",
    "    fac = fac * N\n",
    "    N -= 1\n",
    "print(fac)"
   ]
  },
  {
   "cell_type": "code",
   "execution_count": 34,
   "id": "aa151696-2a4e-4489-a3cc-83ae546e6084",
   "metadata": {},
   "outputs": [
    {
     "name": "stdin",
     "output_type": "stream",
     "text": [
      "N:  199\n"
     ]
    },
    {
     "name": "stdout",
     "output_type": "stream",
     "text": [
      "Average = 50.57788944723618\n",
      "Max = 98\n"
     ]
    },
    {
     "name": "stdin",
     "output_type": "stream",
     "text": [
      "CID:  2258\n"
     ]
    },
    {
     "name": "stdout",
     "output_type": "stream",
     "text": [
      "40\n"
     ]
    }
   ],
   "source": [
    "#Task B\n",
    "cid = open('CID.txt', 'r')\n",
    "marks = open('Marks.txt', 'r')\n",
    "N = int(input(\"N: \"))\n",
    "\n",
    "mark = []\n",
    "high = 0\n",
    "i = 1\n",
    "sum = 0\n",
    "for line in marks:\n",
    "    if i > N:\n",
    "        break\n",
    "    mark.append(int(line))\n",
    "    sum += int(line)\n",
    "    if int(line) > high:\n",
    "        high = int(line)      \n",
    "    i += 1\n",
    "\n",
    "avg = sum / N\n",
    "print(\"Average = \" + str(avg))\n",
    "print(\"Max = \" + str(high))\n",
    "\n",
    "#Task C\n",
    "cids = []\n",
    "for line in cid:\n",
    "    cids.append(int(line))\n",
    "number = cids.index(int(input(\"CID: \")))\n",
    "score = mark[number]\n",
    "print(score)\n",
    "\n",
    "\n",
    "\n",
    "cid.close()\n",
    "marks.close()"
   ]
  },
  {
   "cell_type": "code",
   "execution_count": 58,
   "id": "4492bedf-d802-4d8a-a3d1-59196b583c98",
   "metadata": {},
   "outputs": [
    {
     "name": "stdin",
     "output_type": "stream",
     "text": [
      "N:  14\n"
     ]
    },
    {
     "name": "stdout",
     "output_type": "stream",
     "text": [
      "0.5790648348629475\n"
     ]
    },
    {
     "data": {
      "image/png": "[encoded data removed]",
      "text/plain": [
       "<Figure size 432x288 with 1 Axes>"
      ]
     },
     "metadata": {
      "needs_background": "light"
     },
     "output_type": "display_data"
    }
   ],
   "source": [
    "#task D\n",
    "import matplotlib.pyplot as plt\n",
    "N = int(input(\"N: \"))\n",
    "y = []\n",
    "tmp = range(-80,81,1)\n",
    "x = []\n",
    "for i in tmp:\n",
    "    x.append(i/100.0)\n",
    "for z in x:\n",
    "    sum = 0\n",
    "    for i in range(N+1):\n",
    "        sum += (z) ** i\n",
    "    y.append(sum)\n",
    "print(y[x.index(-0.75)])\n",
    "plt.plot(x, y)\n",
    "plt.show()\n"
   ]
  },
  {
   "cell_type": "code",
   "execution_count": 67,
   "id": "5840e9d2-46dd-4f1b-97f0-3934a29f1fb5",
   "metadata": {},
   "outputs": [
    {
     "name": "stdin",
     "output_type": "stream",
     "text": [
      "x:  0.5\n",
      "q:  8\n"
     ]
    },
    {
     "name": "stdout",
     "output_type": "stream",
     "text": [
      "n = 26\n",
      "y = 1.9999999850988388\n"
     ]
    }
   ],
   "source": [
    "x = float(input(\"x: \"))\n",
    "q = int(input(\"q: \"))\n",
    "n = 0\n",
    "notaccurate = True\n",
    "while notaccurate:\n",
    "    y = 0\n",
    "    y1 = 0\n",
    "    for i in range(n+1):\n",
    "        y += x ** i\n",
    "    for i in range(n+2):\n",
    "        y1 += x ** i\n",
    "    if abs(y1 - y)<10 **(-q):\n",
    "        notaccurate = False\n",
    "    else:\n",
    "        n += 1\n",
    "print(f'n = {n}')\n",
    "print(f'y = {y}')"
   ]
  },
  {
   "cell_type": "code",
   "execution_count": null,
   "id": "f6cc898a-e4e7-46f7-9ae3-bcc99504ab9d",
   "metadata": {},
   "outputs": [],
   "source": []
  }
 ],
 "metadata": {
  "kernelspec": {
   "display_name": "Python 3 (ipykernel)",
   "language": "python",
   "name": "python3"
  },
  "language_info": {
   "codemirror_mode": {
    "name": "ipython",
    "version": 3
   },
   "file_extension": ".py",
   "mimetype": "text/x-python",
   "name": "python",
   "nbconvert_exporter": "python",
   "pygments_lexer": "ipython3",
   "version": "3.9.12"
  }
 },
 "nbformat": 4,
 "nbformat_minor": 5
}
