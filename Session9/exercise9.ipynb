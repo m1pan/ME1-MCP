{
 "cells": [
  {
   "cell_type": "code",
   "execution_count": 50,
   "id": "fd72e8d9-2b85-4f16-9dba-4504882bd754",
   "metadata": {},
   "outputs": [
    {
     "name": "stdout",
     "output_type": "stream",
     "text": [
      "-1.049999999999999\n"
     ]
    },
    {
     "data": {
      "image/png": "[encoded data removed]",
      "text/plain": [
       "<Figure size 640x480 with 1 Axes>"
      ]
     },
     "metadata": {},
     "output_type": "display_data"
    }
   ],
   "source": [
    "import numpy as np\n",
    "import matplotlib.pyplot as plt\n",
    "import math as mt\n",
    "import random as rn\n",
    "x = np.arange(-2,5.9,0.1)\n",
    "y = np.sin(x)\n",
    "plt.scatter(x,y)\n",
    "\n",
    "x = np.linspace(-2,5.8,100)\n",
    "y = np.sinh(x)\n",
    "plt.scatter(x,y)\n",
    "\n",
    "a = np.arange(-5,-2.5,0.5)\n",
    "b = np.arange(-2.05,3,0.05)\n",
    "c = np.arange(3,5.5,0.5)\n",
    "\n",
    "x = np.concatenate((a,b,c))\n",
    "y = np.exp(x**4/(-4))\n",
    "print(x[25])"
   ]
  },
  {
   "cell_type": "code",
   "execution_count": 51,
   "id": "70473788-55ef-46fa-8506-331ffb4cdb32",
   "metadata": {},
   "outputs": [
    {
     "name": "stdout",
     "output_type": "stream",
     "text": [
      "[[1. 0. 0. 0. 0. 1.]\n",
      " [0. 1. 0. 0. 1. 0.]\n",
      " [0. 0. 1. 1. 0. 0.]\n",
      " [0. 0. 1. 1. 0. 0.]\n",
      " [0. 1. 0. 0. 1. 0.]\n",
      " [1. 0. 0. 0. 0. 1.]]\n"
     ]
    }
   ],
   "source": [
    "a = np.zeros((30,20))\n",
    "tmp = np.arange(50,70,1)\n",
    "a[5] = tmp\n",
    "tmp = np.arange(100,130,1)\n",
    "a[:,7]= tmp\n",
    "\n",
    "N = 6\n",
    "s = np.zeros((N,N))\n",
    "for i in range(N):\n",
    "    s[i,i] = s[i,-i-1] = 1\n",
    "print(s)"
   ]
  },
  {
   "cell_type": "code",
   "execution_count": 52,
   "id": "d59fe422",
   "metadata": {},
   "outputs": [
    {
     "name": "stdout",
     "output_type": "stream",
     "text": [
      "[[46. 80. 99.  8. 21.]\n",
      " [73. 44. 93. 16. 60.]\n",
      " [ 6. 65. 23. 76. 68.]\n",
      " [ 0. 29.  3. 84. 10.]\n",
      " [88. 89. 94. 64. 95.]\n",
      " [58. 30. 84. 66.  7.]\n",
      " [ 4. 90. 18. 98. 13.]\n",
      " [45. 30. 79. 28. 68.]\n",
      " [ 3. 89. 23.  5. 71.]\n",
      " [30.  5. 79. 46. 35.]]\n",
      "[[46. 73.  6.  0. 88. 58.  4. 45.  3. 30.]\n",
      " [80. 44. 65. 29. 89. 30. 90. 30. 89.  5.]\n",
      " [99. 93. 23.  3. 94. 84. 18. 79. 23. 79.]\n",
      " [ 8. 16. 76. 84. 64. 66. 98. 28.  5. 46.]\n",
      " [21. 60. 68. 10. 95.  7. 13. 68. 71. 35.]]\n"
     ]
    }
   ],
   "source": [
    "import random as rn\n",
    "\n",
    "R = np.ndarray((10,5))\n",
    "for i in range(R.shape[0]):\n",
    "    for j in range(R.shape[1]):\n",
    "        R[i,j] = int(rn.random()*100)\n",
    "print(R)\n",
    "\n",
    "\n",
    "def transpose(r):\n",
    "    row0 = r.shape[0]\n",
    "    col0 = r.shape[1]\n",
    "    c = np.ndarray((col0,row0))\n",
    "    for i in range(row0):\n",
    "        for j in range(col0):\n",
    "            c[j,i] = r[i,j]\n",
    "    return c\n",
    "print(transpose(R))"
   ]
  },
  {
   "cell_type": "code",
   "execution_count": 53,
   "id": "b39a6739-6e3a-430d-b187-1e00d4b308a9",
   "metadata": {},
   "outputs": [
    {
     "name": "stdout",
     "output_type": "stream",
     "text": [
      "70.0\n",
      "13.0 60.0\n"
     ]
    }
   ],
   "source": [
    "a = np.ndarray( (60,60) )\n",
    "with open('MatA.txt', 'r') as f:\n",
    "    mat = [int(i) for i in f]\n",
    "for i in range(60):\n",
    "    a[i] = mat[60*i:60*i+60]\n",
    "\n",
    "print(a[11,11])\n",
    "\n",
    "b = np.ndarray( (60,60) )\n",
    "with open('MatB.txt', 'r') as f:\n",
    "    mat = [int(i) for i in f]\n",
    "for i in range(60):\n",
    "    b[i] = mat[60*i:60*i+60]\n",
    "\n",
    "print(a[34,10], b[34,10])"
   ]
  },
  {
   "cell_type": "code",
   "execution_count": 54,
   "id": "66aaf186-a1e5-4a7d-95e0-217f73ca64ef",
   "metadata": {},
   "outputs": [
    {
     "name": "stdout",
     "output_type": "stream",
     "text": [
      "73.0\n"
     ]
    }
   ],
   "source": [
    "def MatSum(A,B):\n",
    "    if A.shape != B.shape:\n",
    "        return \n",
    "    l = A.shape\n",
    "    C = np.ndarray(l)\n",
    "    for i in range(l[0]):\n",
    "        for j in range(l[1]):\n",
    "            C[i,j] = A[i,j] + B[i,j]\n",
    "    return C\n",
    "c = MatSum(a,b)\n",
    "print(c[34,10])"
   ]
  },
  {
   "cell_type": "code",
   "execution_count": null,
   "id": "969da11d-6751-4055-8539-3bcaed168c2c",
   "metadata": {},
   "outputs": [],
   "source": []
  },
  {
   "cell_type": "code",
   "execution_count": 55,
   "id": "954ae875-869a-4d30-92d0-7e3917612dc1",
   "metadata": {},
   "outputs": [
    {
     "name": "stdout",
     "output_type": "stream",
     "text": [
      "168596.0\n"
     ]
    }
   ],
   "source": [
    "def MatMat(A,B):\n",
    "    NrA = A.shape[0]\n",
    "    NcA = A.shape[1]\n",
    "    NrB = B.shape[0]\n",
    "    NcB = B.shape[1]\n",
    "    \n",
    "    if NcA != NrB:\n",
    "        return 0\n",
    "    C = np.zeros((NrA,NcB))\n",
    "    for i in range(NrA):\n",
    "        for j in range(NcB):\n",
    "            for k in range(NcA):\n",
    "                C[i,j] += A[i,k] * B[k,j]\n",
    "    return C\n",
    "E = MatMat(a,b)\n",
    "print(E[11,11])"
   ]
  },
  {
   "cell_type": "code",
   "execution_count": 61,
   "id": "a2c8e5a4-3d86-4565-9d8f-c93ff01506fd",
   "metadata": {},
   "outputs": [
    {
     "name": "stdout",
     "output_type": "stream",
     "text": [
      "-720.0\n"
     ]
    }
   ],
   "source": [
    "# Task F\n",
    "def Minor(A,i,j):\n",
    "    if A.shape[0] != A.shape[1]:\n",
    "        return 0\n",
    "    size = A.shape[0]\n",
    "    c = np.zeros((size - 1, size - 1))\n",
    "    c[:i,:j] = A[:i,:j]\n",
    "    c[:i,j:] = A[:i,j+1:]\n",
    "    c[i:,:j] = A[i+1:,:j]\n",
    "    c[i:,j:] = A[i+1:,j+1:]\n",
    "    return c\n",
    "def determinant(A):\n",
    "    n = A.shape[0]\n",
    "    if n != A.shape[1]:\n",
    "        return 0\n",
    "    elif n == 2:\n",
    "        return A[0,0]*A[1,1] - A[0,1]*A[1,0]\n",
    "\n",
    "    else:\n",
    "        det = 0\n",
    "        for i in range(n):\n",
    "            det += A[0,i] * ((-1)**i) * determinant(Minor(A,0,i))\n",
    "        return det\n",
    "    \n",
    "test = np.array([[6,1,1,5],[4,-2,5,2],[2,8,7,1],[2,1,5,3]])\n",
    "\n",
    "print(determinant(test))\n",
    "\n"
   ]
  },
  {
   "cell_type": "code",
   "execution_count": 67,
   "id": "c13f344f",
   "metadata": {},
   "outputs": [
    {
     "name": "stdout",
     "output_type": "stream",
     "text": [
      "-0.5555555555555556\n"
     ]
    }
   ],
   "source": [
    "#Task G\n",
    "def adjoint(A):\n",
    "    N = A.shape[0]\n",
    "    c = np.zeros((N,N))\n",
    "    for i in range(N):\n",
    "        for j in range(N):\n",
    "            c[i,j] = ((-1)**(i+j)) * determinant(Minor(A,i,j))\n",
    "    return transpose(c)\n",
    "\n",
    "def inverse(A):\n",
    "    return adjoint(A)/determinant(A)\n",
    "g = np.array([[3,1,-1,5],[2,-2,0,2],[1,2,-1,-3],[2,5,-1,4]])\n",
    "print(inverse(g)[0,0])"
   ]
  },
  {
   "cell_type": "code",
   "execution_count": 68,
   "id": "9f60458a",
   "metadata": {},
   "outputs": [
    {
     "name": "stdout",
     "output_type": "stream",
     "text": [
      "[[ 0.90638298]\n",
      " [ 1.1787234 ]\n",
      " [-1.57446809]\n",
      " [ 1.13617021]]\n"
     ]
    }
   ],
   "source": [
    "#Task H\n",
    "A = np.array([[8,-2,1,5],[1,-5,2,1],[-1,2,3,2],[2,-1,3,8]])\n",
    "b = np.array([[9],[-7],[-1],[5]])\n",
    "x = MatMat(inverse(A),b)\n",
    "print(x)"
   ]
  },
  {
   "cell_type": "code",
   "execution_count": null,
   "id": "97970379",
   "metadata": {},
   "outputs": [],
   "source": []
  }
 ],
 "metadata": {
  "kernelspec": {
   "display_name": "Python 3 (ipykernel)",
   "language": "python",
   "name": "python3"
  },
  "language_info": {
   "codemirror_mode": {
    "name": "ipython",
    "version": 3
   },
   "file_extension": ".py",
   "mimetype": "text/x-python",
   "name": "python",
   "nbconvert_exporter": "python",
   "pygments_lexer": "ipython3",
   "version": "3.9.13"
  }
 },
 "nbformat": 4,
 "nbformat_minor": 5
}
