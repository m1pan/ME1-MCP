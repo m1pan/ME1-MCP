{
 "cells": [
  {
   "cell_type": "code",
   "execution_count": 5,
   "id": "202db4db-f692-4250-92a8-d948db082d0c",
   "metadata": {},
   "outputs": [
    {
     "name": "stdout",
     "output_type": "stream",
     "text": [
      "120\n"
     ]
    }
   ],
   "source": [
    "#TaskA\n",
    "def factorial(n):\n",
    "    if n <= 1:\n",
    "        return n\n",
    "    sum = n * factorial(n-1)\n",
    "    return sum\n",
    "\n",
    "n = 5\n",
    "n = factorial(n)\n",
    "print(n)\n",
    "    "
   ]
  },
  {
   "cell_type": "code",
   "execution_count": 6,
   "id": "beaf73c5-6bcd-46b3-9ff3-6d2bc276e931",
   "metadata": {},
   "outputs": [
    {
     "name": "stdout",
     "output_type": "stream",
     "text": [
      "[12.182493960362006]\n"
     ]
    },
    {
     "data": {
      "text/plain": [
       "[<matplotlib.lines.Line2D at 0x1d19480de50>]"
      ]
     },
     "execution_count": 6,
     "metadata": {},
     "output_type": "execute_result"
    },
    {
     "data": {
      "image/png": "[encoded data removed]",
      "text/plain": [
       "<Figure size 432x288 with 1 Axes>"
      ]
     },
     "metadata": {
      "needs_background": "light"
     },
     "output_type": "display_data"
    }
   ],
   "source": [
    "#TaskB\n",
    "import matplotlib.pyplot as plt\n",
    "def ExpSeries(x,N):\n",
    "    sum = []\n",
    "    for j in range(len(x)):\n",
    "        tmp = 1\n",
    "        for i in range(1,N+1):\n",
    "            tmp += (x[j]**i)/factorial(i)\n",
    "        sum.append(tmp)\n",
    "    return sum\n",
    "x = [2.5]\n",
    "y = ExpSeries(x, 18)\n",
    "print(y)\n",
    "\n",
    "tmp = range(-400,200,1)\n",
    "a = []\n",
    "for i in tmp:\n",
    "    a.append(i/100.0)\n",
    "y1 = ExpSeries(a, 2)\n",
    "y2 = ExpSeries(a, 6)\n",
    "y3 = ExpSeries(a, 10)\n",
    "y4 = ExpSeries(a, 14)\n",
    "plt.plot(a, y1)\n",
    "plt.plot(a, y2)\n",
    "plt.plot(a, y3)\n",
    "plt.plot(a, y4)"
   ]
  },
  {
   "cell_type": "code",
   "execution_count": 11,
   "id": "80fd7b8d-a186-4b2e-9435-de77636e23ed",
   "metadata": {},
   "outputs": [
    {
     "name": "stdout",
     "output_type": "stream",
     "text": [
      "23\n"
     ]
    }
   ],
   "source": [
    "#Task C\n",
    "def SortAscending(n):\n",
    "    for i in range(len(n)):\n",
    "        for j in range(i+1,len(n)):\n",
    "            if n[j]<n[i]:\n",
    "                (n[j],n[i]) = (n[i],n[j])\n",
    "    return n\n",
    "file = open(\"set.txt\", \"r\")\n",
    "Set = []\n",
    "for l in file:\n",
    "    Set.append(int(l.rstrip()))\n",
    "SortAscending(Set)\n",
    "print(Set[124])"
   ]
  },
  {
   "cell_type": "code",
   "execution_count": 14,
   "id": "0813a461-d269-4ad4-a502-03ca00abdddd",
   "metadata": {},
   "outputs": [
    {
     "name": "stdin",
     "output_type": "stream",
     "text": [
      "v0:  30\n",
      "a0:  30\n",
      "v0:  30\n",
      "a0:  40\n",
      "v0:  70\n"
     ]
    },
    {
     "ename": "KeyboardInterrupt",
     "evalue": "Interrupted by user",
     "output_type": "error",
     "traceback": [
      "\u001b[1;31m---------------------------------------------------------------------------\u001b[0m",
      "\u001b[1;31mKeyboardInterrupt\u001b[0m                         Traceback (most recent call last)",
      "Input \u001b[1;32mIn [14]\u001b[0m, in \u001b[0;36m<cell line: 28>\u001b[1;34m()\u001b[0m\n\u001b[0;32m     28\u001b[0m \u001b[38;5;28;01mwhile\u001b[39;00m \u001b[38;5;129;01mnot\u001b[39;00m hit:\n\u001b[0;32m     29\u001b[0m     v \u001b[38;5;241m=\u001b[39m \u001b[38;5;28mint\u001b[39m(\u001b[38;5;28minput\u001b[39m(\u001b[38;5;124m\"\u001b[39m\u001b[38;5;124mv0: \u001b[39m\u001b[38;5;124m\"\u001b[39m))\n\u001b[1;32m---> 30\u001b[0m     a \u001b[38;5;241m=\u001b[39m \u001b[38;5;28mint\u001b[39m(\u001b[38;5;28;43minput\u001b[39;49m\u001b[43m(\u001b[49m\u001b[38;5;124;43m\"\u001b[39;49m\u001b[38;5;124;43ma0: \u001b[39;49m\u001b[38;5;124;43m\"\u001b[39;49m\u001b[43m)\u001b[49m)\n\u001b[0;32m     31\u001b[0m     (x,y,hit) \u001b[38;5;241m=\u001b[39m Shootbullet(a, v, xt, yt, r)\n\u001b[0;32m     32\u001b[0m     plt\u001b[38;5;241m.\u001b[39mplot(x, y)\n",
      "File \u001b[1;32m~\\anaconda3\\lib\\site-packages\\ipykernel\\kernelbase.py:1075\u001b[0m, in \u001b[0;36mKernel.raw_input\u001b[1;34m(self, prompt)\u001b[0m\n\u001b[0;32m   1071\u001b[0m \u001b[38;5;28;01mif\u001b[39;00m \u001b[38;5;129;01mnot\u001b[39;00m \u001b[38;5;28mself\u001b[39m\u001b[38;5;241m.\u001b[39m_allow_stdin:\n\u001b[0;32m   1072\u001b[0m     \u001b[38;5;28;01mraise\u001b[39;00m StdinNotImplementedError(\n\u001b[0;32m   1073\u001b[0m         \u001b[38;5;124m\"\u001b[39m\u001b[38;5;124mraw_input was called, but this frontend does not support input requests.\u001b[39m\u001b[38;5;124m\"\u001b[39m\n\u001b[0;32m   1074\u001b[0m     )\n\u001b[1;32m-> 1075\u001b[0m \u001b[38;5;28;01mreturn\u001b[39;00m \u001b[38;5;28;43mself\u001b[39;49m\u001b[38;5;241;43m.\u001b[39;49m\u001b[43m_input_request\u001b[49m\u001b[43m(\u001b[49m\n\u001b[0;32m   1076\u001b[0m \u001b[43m    \u001b[49m\u001b[38;5;28;43mstr\u001b[39;49m\u001b[43m(\u001b[49m\u001b[43mprompt\u001b[49m\u001b[43m)\u001b[49m\u001b[43m,\u001b[49m\n\u001b[0;32m   1077\u001b[0m \u001b[43m    \u001b[49m\u001b[38;5;28;43mself\u001b[39;49m\u001b[38;5;241;43m.\u001b[39;49m\u001b[43m_parent_ident\u001b[49m\u001b[43m[\u001b[49m\u001b[38;5;124;43m\"\u001b[39;49m\u001b[38;5;124;43mshell\u001b[39;49m\u001b[38;5;124;43m\"\u001b[39;49m\u001b[43m]\u001b[49m\u001b[43m,\u001b[49m\n\u001b[0;32m   1078\u001b[0m \u001b[43m    \u001b[49m\u001b[38;5;28;43mself\u001b[39;49m\u001b[38;5;241;43m.\u001b[39;49m\u001b[43mget_parent\u001b[49m\u001b[43m(\u001b[49m\u001b[38;5;124;43m\"\u001b[39;49m\u001b[38;5;124;43mshell\u001b[39;49m\u001b[38;5;124;43m\"\u001b[39;49m\u001b[43m)\u001b[49m\u001b[43m,\u001b[49m\n\u001b[0;32m   1079\u001b[0m \u001b[43m    \u001b[49m\u001b[43mpassword\u001b[49m\u001b[38;5;241;43m=\u001b[39;49m\u001b[38;5;28;43;01mFalse\u001b[39;49;00m\u001b[43m,\u001b[49m\n\u001b[0;32m   1080\u001b[0m \u001b[43m\u001b[49m\u001b[43m)\u001b[49m\n",
      "File \u001b[1;32m~\\anaconda3\\lib\\site-packages\\ipykernel\\kernelbase.py:1120\u001b[0m, in \u001b[0;36mKernel._input_request\u001b[1;34m(self, prompt, ident, parent, password)\u001b[0m\n\u001b[0;32m   1117\u001b[0m             \u001b[38;5;28;01mbreak\u001b[39;00m\n\u001b[0;32m   1118\u001b[0m \u001b[38;5;28;01mexcept\u001b[39;00m \u001b[38;5;167;01mKeyboardInterrupt\u001b[39;00m:\n\u001b[0;32m   1119\u001b[0m     \u001b[38;5;66;03m# re-raise KeyboardInterrupt, to truncate traceback\u001b[39;00m\n\u001b[1;32m-> 1120\u001b[0m     \u001b[38;5;28;01mraise\u001b[39;00m \u001b[38;5;167;01mKeyboardInterrupt\u001b[39;00m(\u001b[38;5;124m\"\u001b[39m\u001b[38;5;124mInterrupted by user\u001b[39m\u001b[38;5;124m\"\u001b[39m) \u001b[38;5;28;01mfrom\u001b[39;00m \u001b[38;5;28mNone\u001b[39m\n\u001b[0;32m   1121\u001b[0m \u001b[38;5;28;01mexcept\u001b[39;00m \u001b[38;5;167;01mException\u001b[39;00m:\n\u001b[0;32m   1122\u001b[0m     \u001b[38;5;28mself\u001b[39m\u001b[38;5;241m.\u001b[39mlog\u001b[38;5;241m.\u001b[39mwarning(\u001b[38;5;124m\"\u001b[39m\u001b[38;5;124mInvalid Message:\u001b[39m\u001b[38;5;124m\"\u001b[39m, exc_info\u001b[38;5;241m=\u001b[39m\u001b[38;5;28;01mTrue\u001b[39;00m)\n",
      "\u001b[1;31mKeyboardInterrupt\u001b[0m: Interrupted by user"
     ]
    },
    {
     "data": {
      "image/png": "[encoded data removed]",
      "text/plain": [
       "<Figure size 432x288 with 1 Axes>"
      ]
     },
     "metadata": {
      "needs_background": "light"
     },
     "output_type": "display_data"
    }
   ],
   "source": [
    "#TaskD\n",
    "from math import tan, cos, radians \n",
    "def Shootbullet(a0, v0, xt, yt, r):\n",
    "    #Convert the shooting angle to radians\n",
    "    a0_rad = radians(a0)\n",
    "\n",
    "    x = []\n",
    "    y = []\n",
    "    hit = False\n",
    "    dx = 0.01\n",
    "    a = 0\n",
    "    b = 0\n",
    "    while not hit and len(x) <= 1000:\n",
    "        a += dx\n",
    "        b = a * tan(a0_rad)-0.5*(a**2)*9.81/((v0**2)*(cos(a0_rad)**2))\n",
    "        x.append(a)\n",
    "        y.append(b)\n",
    "        if ((a-xt)**2 + (b-yt)**2) <= r**2:\n",
    "            hit = True\n",
    "    return (x, y, hit)\n",
    "\n",
    "xt = 0.9\n",
    "yt = 0.7\n",
    "r = 0.01\n",
    "hit = False\n",
    "x = []\n",
    "y = []\n",
    "while not hit:\n",
    "    v = int(input(\"v0: \"))\n",
    "    a = int(input(\"a0: \"))\n",
    "    (x,y,hit) = Shootbullet(a, v, xt, yt, r)\n",
    "    plt.plot(x, y)\n",
    "\n",
    "        \n",
    "        \n",
    "    "
   ]
  },
  {
   "cell_type": "code",
   "execution_count": null,
   "id": "7f35e1c8-7260-49ee-afab-2e64c645eb44",
   "metadata": {},
   "outputs": [],
   "source": []
  },
  {
   "cell_type": "code",
   "execution_count": null,
   "id": "e20fd32e-a61e-4c06-942a-ba9aa157620b",
   "metadata": {},
   "outputs": [],
   "source": []
  }
 ],
 "metadata": {
  "kernelspec": {
   "display_name": "Python 3 (ipykernel)",
   "language": "python",
   "name": "python3"
  },
  "language_info": {
   "codemirror_mode": {
    "name": "ipython",
    "version": 3
   },
   "file_extension": ".py",
   "mimetype": "text/x-python",
   "name": "python",
   "nbconvert_exporter": "python",
   "pygments_lexer": "ipython3",
   "version": "3.9.12"
  }
 },
 "nbformat": 4,
 "nbformat_minor": 5
}
