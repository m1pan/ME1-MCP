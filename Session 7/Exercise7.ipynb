{
 "cells": [
  {
   "cell_type": "code",
   "execution_count": 6,
   "id": "7581f656-8b6c-47c0-ad10-45bd1bfc03f3",
   "metadata": {},
   "outputs": [
    {
     "name": "stdout",
     "output_type": "stream",
     "text": [
      "Sam\n",
      "['Jason', 'Giorgos']\n"
     ]
    }
   ],
   "source": [
    "import copy\n",
    "class Student:\n",
    "    def __init__(self, CID, name, marks):\n",
    "        self.CID = CID\n",
    "        self.name = name\n",
    "        self.marks = marks\n",
    "    def avg(self):\n",
    "        average = sum(self.marks)/len(self.marks)\n",
    "        return average\n",
    "\n",
    "class Cohort:\n",
    "    def __init__(self, year, students):\n",
    "        self.year = year\n",
    "        self.students = students\n",
    "    \n",
    "    def best(self):\n",
    "        top = self.students[0]\n",
    "        for i in range(1,len(self.students)):\n",
    "            if self.students[i].avg() > top.avg():\n",
    "                top = self.students[i]\n",
    "        return top\n",
    "    def deans(self):\n",
    "        dean = []\n",
    "        tmp = copy.deepcopy(self)\n",
    "        while len(dean) < int(0.1*len(self.students)):\n",
    "            dean.append(tmp.best().name)\n",
    "            tmp.students.remove(tmp.best())\n",
    "        return dean\n",
    "\n",
    "with open(\"CID.txt\",'r') as f:\n",
    "    CID = [int(i) for i in f]\n",
    "with open(\"Names.txt\",'r') as f:\n",
    "    names = [i.rstrip() for i in f]\n",
    "with open(\"Marks.txt\",'r') as f:\n",
    "    marks = [int(i) for i in f]\n",
    "\n",
    "allstudents = []\n",
    "for i in range(len(CID)):\n",
    "    tmpmark = []\n",
    "    for j in range(10):\n",
    "        tmpmark.append(marks[i*10+j])\n",
    "    allstudents.append(Student(CID[i], names[i], tmpmark))\n",
    "\n",
    "cohort19 = [i for i in allstudents if 0<i.CID<2000]\n",
    "cohort20 = [i for i in allstudents if 2000<=i.CID<4000]\n",
    "cohort21 = [i for i in allstudents if 4000<=i.CID<6000]\n",
    "cohort22 = [i for i in allstudents if i.CID>=6000]\n",
    "\n",
    "ME = [Cohort(2019, cohort19), Cohort(2020, cohort20), Cohort(2021, cohort21), Cohort(2022, cohort22)]\n",
    "print(ME[-1].best().name)\n",
    "print(ME[1].deans())"
   ]
  },
  {
   "cell_type": "code",
   "execution_count": null,
   "id": "41328aaf-4d88-45de-875d-7203988bb16a",
   "metadata": {},
   "outputs": [],
   "source": []
  }
 ],
 "metadata": {
  "kernelspec": {
   "display_name": "Python 3 (ipykernel)",
   "language": "python",
   "name": "python3"
  },
  "language_info": {
   "codemirror_mode": {
    "name": "ipython",
    "version": 3
   },
   "file_extension": ".py",
   "mimetype": "text/x-python",
   "name": "python",
   "nbconvert_exporter": "python",
   "pygments_lexer": "ipython3",
   "version": "3.9.13"
  }
 },
 "nbformat": 4,
 "nbformat_minor": 5
}
