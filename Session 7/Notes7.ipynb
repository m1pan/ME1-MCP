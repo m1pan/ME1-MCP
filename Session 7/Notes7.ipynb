{
 "cells": [
  {
   "cell_type": "code",
   "execution_count": null,
   "metadata": {},
   "outputs": [],
   "source": []
  },
  {
   "cell_type": "code",
   "execution_count": null,
   "metadata": {},
   "outputs": [],
   "source": []
  },
  {
   "cell_type": "code",
   "execution_count": 1,
   "metadata": {},
   "outputs": [],
   "source": [
    "class Point:\n",
    "    ''' represents a 2D point '''\n",
    "    \n",
    "    ''' attributes are: x, y '''"
   ]
  },
  {
   "cell_type": "code",
   "execution_count": null,
   "metadata": {},
   "outputs": [],
   "source": []
  },
  {
   "cell_type": "code",
   "execution_count": 2,
   "metadata": {},
   "outputs": [],
   "source": [
    "class Rectangle:\n",
    "    ''' represents a rectangle'''\n",
    "    \n",
    "    ''' attributes are: centre, width, height '''"
   ]
  },
  {
   "cell_type": "code",
   "execution_count": null,
   "metadata": {},
   "outputs": [],
   "source": []
  },
  {
   "cell_type": "code",
   "execution_count": 3,
   "metadata": {},
   "outputs": [],
   "source": [
    "P1 = Point()\n",
    "P2 = Point()\n",
    "\n",
    "R1 = Rectangle()"
   ]
  },
  {
   "cell_type": "code",
   "execution_count": 4,
   "metadata": {},
   "outputs": [
    {
     "name": "stdout",
     "output_type": "stream",
     "text": [
      "<__main__.Point object at 0x7fb3c9f34eb0>\n",
      "<__main__.Point object at 0x7fb3c9f34b20>\n"
     ]
    }
   ],
   "source": [
    "print(P1)\n",
    "print(P2)"
   ]
  },
  {
   "cell_type": "code",
   "execution_count": 5,
   "metadata": {},
   "outputs": [],
   "source": [
    "P1.x = 5\n",
    "P1.y = 6\n",
    "\n",
    "P2.x = 3\n",
    "P2.y = 1"
   ]
  },
  {
   "cell_type": "code",
   "execution_count": 6,
   "metadata": {},
   "outputs": [
    {
     "name": "stdout",
     "output_type": "stream",
     "text": [
      "<__main__.Point object at 0x7fb3c9f34eb0>\n",
      "5\n"
     ]
    }
   ],
   "source": [
    "print(P1)\n",
    "print(P1.x)"
   ]
  },
  {
   "cell_type": "code",
   "execution_count": 7,
   "metadata": {},
   "outputs": [
    {
     "name": "stdout",
     "output_type": "stream",
     "text": [
      "5\n"
     ]
    },
    {
     "data": {
      "text/plain": [
       "int"
      ]
     },
     "execution_count": 7,
     "metadata": {},
     "output_type": "execute_result"
    }
   ],
   "source": [
    "x = P1.x\n",
    "print(x)\n",
    "type(x)"
   ]
  },
  {
   "cell_type": "code",
   "execution_count": 8,
   "metadata": {},
   "outputs": [],
   "source": [
    "R1.width = 2\n",
    "R1.height = 4\n",
    "R1.centre = Point()\n",
    "R1.centre.x = 4\n",
    "R1.centre.y = 5"
   ]
  },
  {
   "cell_type": "code",
   "execution_count": 9,
   "metadata": {},
   "outputs": [
    {
     "name": "stdout",
     "output_type": "stream",
     "text": [
      "<__main__.Rectangle object at 0x7fb3c9f34ee0>\n",
      "<__main__.Point object at 0x7fb3c9f3d940>\n",
      "4\n"
     ]
    }
   ],
   "source": [
    "print(R1)\n",
    "print(R1.centre)\n",
    "print(R1.centre.x)"
   ]
  },
  {
   "cell_type": "code",
   "execution_count": 10,
   "metadata": {},
   "outputs": [
    {
     "name": "stdout",
     "output_type": "stream",
     "text": [
      "<__main__.Rectangle object at 0x7fb3c9f34ee0>\n",
      "<__main__.Point object at 0x7fb3c9f34b20>\n",
      "<__main__.Point object at 0x7fb3c9f34b20>\n",
      "3\n"
     ]
    }
   ],
   "source": [
    "R1.width = 2\n",
    "R1.height = 4\n",
    "R1.centre = P2\n",
    "print(R1)\n",
    "print(R1.centre)\n",
    "print(P2)\n",
    "print(R1.centre.x)"
   ]
  },
  {
   "cell_type": "code",
   "execution_count": 11,
   "metadata": {},
   "outputs": [
    {
     "name": "stdout",
     "output_type": "stream",
     "text": [
      "<__main__.Point object at 0x7fb3c9f34eb0>\n",
      "<__main__.Point object at 0x7fb3c9f34eb0>\n"
     ]
    }
   ],
   "source": [
    "P3 = P1\n",
    "print(P1)\n",
    "print(P3)"
   ]
  },
  {
   "cell_type": "code",
   "execution_count": 12,
   "metadata": {},
   "outputs": [
    {
     "name": "stdout",
     "output_type": "stream",
     "text": [
      "5\n",
      "8\n"
     ]
    }
   ],
   "source": [
    "print(P1.x)\n",
    "P3.x = 8\n",
    "print(P1.x)"
   ]
  },
  {
   "cell_type": "code",
   "execution_count": 13,
   "metadata": {},
   "outputs": [
    {
     "name": "stdout",
     "output_type": "stream",
     "text": [
      "3\n",
      "3\n",
      "3\n",
      "6\n"
     ]
    }
   ],
   "source": [
    "import copy\n",
    "print(P2.x)\n",
    "P3 = copy.copy(P2)\n",
    "print(P3.x)\n",
    "P3.x = 6\n",
    "print(P2.x)\n",
    "print(P3.x)"
   ]
  },
  {
   "cell_type": "code",
   "execution_count": 14,
   "metadata": {},
   "outputs": [
    {
     "name": "stdout",
     "output_type": "stream",
     "text": [
      "<__main__.Rectangle object at 0x7fb3c9f34ee0>\n",
      "<__main__.Rectangle object at 0x7fb3c9f34ee0>\n",
      "<__main__.Point object at 0x7fb3c9f34b20>\n",
      "<__main__.Point object at 0x7fb3c9f34b20>\n"
     ]
    }
   ],
   "source": [
    "R2 = R1\n",
    "print(R1)\n",
    "print(R2)\n",
    "print(R1.centre)\n",
    "print(R2.centre)"
   ]
  },
  {
   "cell_type": "code",
   "execution_count": 15,
   "metadata": {},
   "outputs": [
    {
     "name": "stdout",
     "output_type": "stream",
     "text": [
      "<__main__.Rectangle object at 0x7fb3c9f34ee0>\n",
      "<__main__.Rectangle object at 0x7fb3c9f52d90>\n",
      "<__main__.Point object at 0x7fb3c9f34b20>\n",
      "<__main__.Point object at 0x7fb3c9f34b20>\n"
     ]
    }
   ],
   "source": [
    "R2 = copy.copy(R1)\n",
    "print(R1)\n",
    "print(R2)\n",
    "print(R1.centre)\n",
    "print(R2.centre)"
   ]
  },
  {
   "cell_type": "code",
   "execution_count": 16,
   "metadata": {},
   "outputs": [
    {
     "name": "stdout",
     "output_type": "stream",
     "text": [
      "<__main__.Rectangle object at 0x7fb3c9f34ee0>\n",
      "<__main__.Rectangle object at 0x7fb3c9f56040>\n",
      "<__main__.Point object at 0x7fb3c9f34b20>\n",
      "<__main__.Point object at 0x7fb3c9f56130>\n"
     ]
    }
   ],
   "source": [
    "R2 = copy.deepcopy(R1)\n",
    "print(R1)\n",
    "print(R2)\n",
    "print(R1.centre)\n",
    "print(R2.centre)"
   ]
  },
  {
   "cell_type": "code",
   "execution_count": 17,
   "metadata": {},
   "outputs": [],
   "source": [
    "def Scale(shape,factor):\n",
    "    newshape = Rectangle()\n",
    "    newshape.width = shape.width * factor\n",
    "    newshape.height = shape.height * factor\n",
    "    return newshape"
   ]
  },
  {
   "cell_type": "code",
   "execution_count": 18,
   "metadata": {},
   "outputs": [
    {
     "name": "stdout",
     "output_type": "stream",
     "text": [
      "2 4\n",
      "2 4\n",
      "6 12\n"
     ]
    }
   ],
   "source": [
    "print(R1.width,R1.height)\n",
    "R2 = Scale(R1,3)\n",
    "print(R1.width,R1.height)\n",
    "print(R2.width,R2.height)"
   ]
  },
  {
   "cell_type": "code",
   "execution_count": 19,
   "metadata": {},
   "outputs": [],
   "source": [
    "def ScaleThis(shape,factor):\n",
    "    shape.width = shape.width * factor\n",
    "    shape.height = shape.height * factor\n",
    "    return"
   ]
  },
  {
   "cell_type": "code",
   "execution_count": 20,
   "metadata": {},
   "outputs": [
    {
     "name": "stdout",
     "output_type": "stream",
     "text": [
      "2 4\n",
      "6 12\n"
     ]
    }
   ],
   "source": [
    "print(R1.width,R1.height)\n",
    "ScaleThis(R1,3)\n",
    "print(R1.width,R1.height)"
   ]
  },
  {
   "cell_type": "code",
   "execution_count": null,
   "metadata": {},
   "outputs": [],
   "source": []
  },
  {
   "cell_type": "code",
   "execution_count": 21,
   "metadata": {},
   "outputs": [],
   "source": [
    "class Rectangle:\n",
    "    ''' represents a rectangle'''\n",
    "    \n",
    "    ''' attributes are: centre, width, height '''"
   ]
  },
  {
   "cell_type": "code",
   "execution_count": 22,
   "metadata": {},
   "outputs": [],
   "source": [
    "def Area(R):\n",
    "    A = R.width * R.height\n",
    "    return A"
   ]
  },
  {
   "cell_type": "code",
   "execution_count": 23,
   "metadata": {},
   "outputs": [
    {
     "name": "stdout",
     "output_type": "stream",
     "text": [
      "8\n"
     ]
    }
   ],
   "source": [
    "R1 = Rectangle()\n",
    "R1.width = 2\n",
    "R1.height = 4\n",
    "R1.centre = P1\n",
    "\n",
    "S = Area(R1)\n",
    "print(S)"
   ]
  },
  {
   "cell_type": "code",
   "execution_count": null,
   "metadata": {},
   "outputs": [],
   "source": []
  },
  {
   "cell_type": "code",
   "execution_count": 24,
   "metadata": {},
   "outputs": [],
   "source": [
    "class Rectangle:\n",
    "    ''' represents a rectangle'''\n",
    "    \n",
    "    ''' attributes are: centre, width, height '''\n",
    "    \n",
    "    def Area(R):\n",
    "        A = R.width * R.height\n",
    "        return A"
   ]
  },
  {
   "cell_type": "code",
   "execution_count": null,
   "metadata": {},
   "outputs": [],
   "source": [
    "\n",
    "        "
   ]
  },
  {
   "cell_type": "code",
   "execution_count": 25,
   "metadata": {},
   "outputs": [],
   "source": [
    "R1 = Rectangle()\n",
    "R1.width = 2\n",
    "R1.height = 4\n",
    "R1.centre = P1"
   ]
  },
  {
   "cell_type": "code",
   "execution_count": 26,
   "metadata": {},
   "outputs": [
    {
     "name": "stdout",
     "output_type": "stream",
     "text": [
      "8\n"
     ]
    }
   ],
   "source": [
    "S = R1.Area()\n",
    "print(S)"
   ]
  },
  {
   "cell_type": "code",
   "execution_count": null,
   "metadata": {},
   "outputs": [],
   "source": []
  },
  {
   "cell_type": "code",
   "execution_count": 27,
   "metadata": {},
   "outputs": [],
   "source": [
    "class Rectangle:\n",
    "    ''' represents a rectangle'''\n",
    "    \n",
    "    ''' attributes are: centre, width, height '''\n",
    "    \n",
    "    def Area(self):\n",
    "        A = self.width * self.height\n",
    "        return A\n"
   ]
  },
  {
   "cell_type": "code",
   "execution_count": null,
   "metadata": {},
   "outputs": [],
   "source": []
  },
  {
   "cell_type": "code",
   "execution_count": 28,
   "metadata": {},
   "outputs": [],
   "source": [
    "class Rectangle:\n",
    "    ''' represents a rectangle'''\n",
    "    \n",
    "    ''' attributes are: centre, width, height '''\n",
    "    \n",
    "    def Area(self):\n",
    "        A = self.width * self.height\n",
    "        return A\n",
    "    \n",
    "    def Scale(self,factor):\n",
    "        self.width = self.width * factor\n",
    "        self.height = self.height * factor"
   ]
  },
  {
   "cell_type": "code",
   "execution_count": 29,
   "metadata": {},
   "outputs": [],
   "source": [
    "R1 = Rectangle()\n",
    "R1.width = 4\n",
    "R1.height = 7\n",
    "R1.centre = P2\n"
   ]
  },
  {
   "cell_type": "code",
   "execution_count": 30,
   "metadata": {},
   "outputs": [
    {
     "name": "stdout",
     "output_type": "stream",
     "text": [
      "4 7\n",
      "20 35\n"
     ]
    }
   ],
   "source": [
    "print(R1.width,R1.height)\n",
    "R1.Scale(5)\n",
    "print(R1.width,R1.height)"
   ]
  },
  {
   "cell_type": "code",
   "execution_count": null,
   "metadata": {},
   "outputs": [],
   "source": []
  },
  {
   "cell_type": "code",
   "execution_count": null,
   "metadata": {},
   "outputs": [],
   "source": []
  },
  {
   "cell_type": "code",
   "execution_count": 31,
   "metadata": {},
   "outputs": [],
   "source": [
    "class Address:\n",
    "    ''' data about an address'''\n",
    "    \n",
    "    ''' attributes are: street, city '''\n",
    "    \n",
    "    def __init__(self, street = '', city = 'London'):\n",
    "        self.street = street\n",
    "        self.city = city\n",
    "        \n",
    "    def ChangeStreet(self,new):\n",
    "        self.street = new\n",
    "        \n",
    "    def ChangeCity(self,new):\n",
    "        self.city = new      "
   ]
  },
  {
   "cell_type": "code",
   "execution_count": 32,
   "metadata": {},
   "outputs": [],
   "source": [
    "class Contact:\n",
    "    ''' data about an address'''\n",
    "    \n",
    "    ''' attributes are: email, tel '''\n",
    "    \n",
    "    def __init__(self, email = '', tel = ''):\n",
    "        self.email = email\n",
    "        self.tel = tel\n",
    "        \n",
    "    def ChangeEmail(self,new):\n",
    "        self.email = new\n",
    "        \n",
    "    def ChangeTel(self,new):\n",
    "        self.tel = new  "
   ]
  },
  {
   "cell_type": "code",
   "execution_count": 33,
   "metadata": {
    "tags": []
   },
   "outputs": [],
   "source": [
    "class Person:\n",
    "    ''' data about an individual'''\n",
    "    \n",
    "    ''' attributes are: name, address, contact '''\n",
    " \n",
    "    def __init__(self, name = '',address=Address(), contact=Contact()):\n",
    "        self.name = name\n",
    "        self.address = address\n",
    "        self.contact = contact\n",
    "        \n",
    "    def ChangeName(self,new):\n",
    "        self.name = new"
   ]
  },
  {
   "cell_type": "code",
   "execution_count": 34,
   "metadata": {
    "tags": []
   },
   "outputs": [
    {
     "name": "stdout",
     "output_type": "stream",
     "text": [
      "John\n",
      "Jonathan\n",
      "Exhibition Road\n"
     ]
    }
   ],
   "source": [
    "Person1 = Person('John')\n",
    "print(Person1.name)\n",
    "Person1.ChangeName('Jonathan')\n",
    "print(Person1.name)\n",
    "Ad = Address('Exhibition Road','Manchester')\n",
    "Cn = Contact('john@ic.ac.uk','0723848484')\n",
    "Person1.address = Ad\n",
    "Person1.contact = Cn\n",
    "print(Person1.address.street)"
   ]
  },
  {
   "cell_type": "code",
   "execution_count": 35,
   "metadata": {
    "collapsed": true,
    "jupyter": {
     "outputs_hidden": true
    },
    "tags": []
   },
   "outputs": [
    {
     "name": "stdout",
     "output_type": "stream",
     "text": [
      "\n",
      "London\n",
      "Liverpool\n",
      "Leeds\n"
     ]
    }
   ],
   "source": [
    "Person2 = Person('Hanna')\n",
    "print(Person2.address.street)\n",
    "Person2.address.street = 'Exhibition Road'\n",
    "print(Person2.address.city)\n",
    "Person2.address.city = 'Liverpool'\n",
    "print(Person2.address.city)\n",
    "Person2.address.ChangeCity('Leeds')\n",
    "print(Person2.address.city)"
   ]
  },
  {
   "cell_type": "code",
   "execution_count": 36,
   "metadata": {
    "tags": []
   },
   "outputs": [],
   "source": [
    "Person3 = Person('Paul')\n",
    "Person3.address.street = 'Piccadilly Circus'\n",
    "Person3.address.city = 'Southampton'"
   ]
  },
  {
   "cell_type": "code",
   "execution_count": 37,
   "metadata": {
    "tags": []
   },
   "outputs": [],
   "source": [
    "class Account:\n",
    "    ''' defines a back account'''\n",
    "    \n",
    "    ''' attributes: sort code, acc number, balance'''\n",
    "    \n",
    "    def __init__(self, code='', number='', balance = ''):\n",
    "        self.code = code\n",
    "        self.number = number\n",
    "        self.balance = balance\n",
    "        \n",
    "    def MoveMoneyTo(self,accTo,value):\n",
    "        self.balance -= value\n",
    "        accTo.balance += value\n",
    "        "
   ]
  },
  {
   "cell_type": "code",
   "execution_count": 38,
   "metadata": {},
   "outputs": [],
   "source": [
    "class Client(Person):\n",
    "    ''' inherit the attributes and method of class Person '''\n",
    "    \n",
    "    ''' with another attribute: accounts'''\n",
    "    \n",
    "    def __init__(self, account=Account()):\n",
    "        self.account = account\n"
   ]
  },
  {
   "cell_type": "code",
   "execution_count": 39,
   "metadata": {},
   "outputs": [],
   "source": [
    "class Employee(Person):\n",
    "    ''' inherit the attributes and method of class Person '''\n",
    "    \n",
    "    ''' with another attribute: CID '''\n",
    "    \n",
    "    def __init__(self, cid=''):\n",
    "        self.cid = cid"
   ]
  },
  {
   "cell_type": "code",
   "execution_count": 40,
   "metadata": {},
   "outputs": [
    {
     "name": "stdout",
     "output_type": "stream",
     "text": [
      "Jonathan lives in Manchester\n",
      "Hanna lives in Piccadilly Circus, Southampton\n",
      "Hanna lives in Piccadilly Circus, Bristol\n"
     ]
    }
   ],
   "source": [
    "Client1 = Client()\n",
    "Client1 = Person1\n",
    "\n",
    "Employee1 = Employee()\n",
    "Employee1 = Person2\n",
    "\n",
    "print(Client1.name+' lives in '+Client1.address.city)\n",
    "print(Employee1.name+' lives in '+Employee1.address.street+', '+Employee1.address.city)\n",
    "Employee1.address.ChangeCity('Bristol')\n",
    "print(Employee1.name+' lives in '+Employee1.address.street+', '+Employee1.address.city)"
   ]
  },
  {
   "cell_type": "code",
   "execution_count": 41,
   "metadata": {},
   "outputs": [],
   "source": [
    "Client2 = Client()\n",
    "Client2 = Person3"
   ]
  },
  {
   "cell_type": "code",
   "execution_count": 42,
   "metadata": {},
   "outputs": [
    {
     "name": "stdout",
     "output_type": "stream",
     "text": [
      "45000 90000\n"
     ]
    }
   ],
   "source": [
    "Account1 = Account('20-02-98','345',45000)\n",
    "Account2 = Account('30-05-66','221',90000)\n",
    "print(Account1.balance,Account2.balance)"
   ]
  },
  {
   "cell_type": "code",
   "execution_count": null,
   "metadata": {},
   "outputs": [],
   "source": []
  },
  {
   "cell_type": "code",
   "execution_count": 43,
   "metadata": {},
   "outputs": [
    {
     "name": "stdout",
     "output_type": "stream",
     "text": [
      "44000 91000\n"
     ]
    }
   ],
   "source": [
    "Account1.MoveMoneyTo(Account2,1000)\n",
    "print(Account1.balance,Account2.balance)"
   ]
  },
  {
   "cell_type": "code",
   "execution_count": 44,
   "metadata": {},
   "outputs": [],
   "source": [
    "Client1.account = Account1\n",
    "Client2.account = Account2"
   ]
  },
  {
   "cell_type": "code",
   "execution_count": 45,
   "metadata": {},
   "outputs": [
    {
     "name": "stdout",
     "output_type": "stream",
     "text": [
      "43000 92000\n"
     ]
    }
   ],
   "source": [
    "Client1.account.MoveMoneyTo(Client2.account,1000)\n",
    "print(Account1.balance,Account2.balance)"
   ]
  },
  {
   "cell_type": "code",
   "execution_count": 46,
   "metadata": {},
   "outputs": [
    {
     "name": "stdout",
     "output_type": "stream",
     "text": [
      "Paul\n",
      "92000\n"
     ]
    }
   ],
   "source": [
    "Clients = [Client1, Client2]\n",
    "Employees = [Employee1]\n",
    "\n",
    "print(Clients[1].name)\n",
    "print(Clients[1].account.balance)"
   ]
  },
  {
   "cell_type": "code",
   "execution_count": 47,
   "metadata": {},
   "outputs": [],
   "source": [
    "class Bank:\n",
    "    ''' defines all the people associated with a bank'''\n",
    "    \n",
    "    ''' attributes: clients, employees, governance'''\n",
    "    "
   ]
  },
  {
   "cell_type": "code",
   "execution_count": 48,
   "metadata": {},
   "outputs": [
    {
     "name": "stdout",
     "output_type": "stream",
     "text": [
      "['Eda Reinlin - P', 'Henry Ford - VP business', 'Ros Patty - VP international']\n",
      "Jonathan\n",
      "43000\n"
     ]
    }
   ],
   "source": [
    "Barclays = Bank()\n",
    "Lloyds = Bank()\n",
    "\n",
    "Barclays.clients = [Client1, Client2]\n",
    "Barclays.employees = [Employee1]\n",
    "Barclays.governance = ['Eda Reinlin - P', 'Henry Ford - VP business','Ros Patty - VP international']\n",
    "\n",
    "print(Barclays.governance)\n",
    "print(Barclays.clients[0].name)\n",
    "print(Barclays.clients[0].account.balance)"
   ]
  },
  {
   "cell_type": "code",
   "execution_count": null,
   "metadata": {},
   "outputs": [],
   "source": []
  },
  {
   "cell_type": "code",
   "execution_count": null,
   "metadata": {},
   "outputs": [],
   "source": []
  }
 ],
 "metadata": {
  "kernelspec": {
   "display_name": "Python 3 (ipykernel)",
   "language": "python",
   "name": "python3"
  },
  "language_info": {
   "codemirror_mode": {
    "name": "ipython",
    "version": 3
   },
   "file_extension": ".py",
   "mimetype": "text/x-python",
   "name": "python",
   "nbconvert_exporter": "python",
   "pygments_lexer": "ipython3",
   "version": "3.9.13"
  }
 },
 "nbformat": 4,
 "nbformat_minor": 4
}
