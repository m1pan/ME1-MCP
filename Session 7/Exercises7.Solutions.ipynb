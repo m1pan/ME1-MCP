{
 "cells": [
  {
   "cell_type": "code",
   "execution_count": 5,
   "metadata": {},
   "outputs": [],
   "source": [
    "import copy"
   ]
  },
  {
   "cell_type": "code",
   "execution_count": null,
   "metadata": {},
   "outputs": [],
   "source": []
  },
  {
   "cell_type": "code",
   "execution_count": 6,
   "metadata": {},
   "outputs": [],
   "source": [
    "class Student:\n",
    "    ''' defines a student '''\n",
    "    \n",
    "    ''' attributes: cid, name list of marks, average'''\n",
    "    \n",
    "    def __init__(self, cid='', name='', marks=[], average=0):\n",
    "        self.cid = cid\n",
    "        self.name = name\n",
    "        self.marks = marks # this is a list of numbers\n",
    "        self.average = average\n",
    "        \n",
    "    def FindAverage(self):\n",
    "        # calculate the average of marks\n",
    "        s = 0\n",
    "        for value in self.marks:\n",
    "            s += value\n",
    "        Av = s / len(self.marks)\n",
    "        return Av\n",
    "    "
   ]
  },
  {
   "cell_type": "code",
   "execution_count": 7,
   "metadata": {},
   "outputs": [],
   "source": [
    "class Cohort:\n",
    "    ''' defines a cohort of student'''\n",
    "    \n",
    "    ''' attributes: year, list of students'''\n",
    "    def __init__(self, year):\n",
    "        self.year = year\n",
    "        self.students= []\n",
    "\n",
    "    def FindBestStudent(self):\n",
    "        # find the student with the highest mark\n",
    "        top = self.students[0].average\n",
    "        best = self.students[0].name\n",
    "        N = len(self.students)\n",
    "        for i in range(1,N):\n",
    "            if self.students[i].average > top:\n",
    "                top = self.students[i].average\n",
    "                best = self.students[i].name\n",
    "        return best\n",
    "          \n",
    "    def FindDeansList(self):\n",
    "        # create a deep copy of the cohort, to preserve the original from alias\n",
    "        coh = copy.deepcopy(self)\n",
    "        N = len(coh.students)\n",
    "        # sort the students by mark, in descending order (make use of function sort)\n",
    "        for i in range(N):\n",
    "            for j in range(i+1,N):\n",
    "                if coh.students[j].average > coh.students[i].average:\n",
    "                    (coh.students[i],coh.students[j]) = (coh.students[j],coh.students[i])\n",
    "        \n",
    "        # determine how many students will be taken into the Dean's list (10% of the cohort)\n",
    "        Ndean = int(0.1*N)\n",
    "        # form the list of names of top 10% students\n",
    "        Dean = []\n",
    "        for i in range(Ndean):\n",
    "            Dean += [coh.students[i].name]\n",
    "        return Dean"
   ]
  },
  {
   "cell_type": "code",
   "execution_count": null,
   "metadata": {},
   "outputs": [],
   "source": []
  },
  {
   "cell_type": "code",
   "execution_count": 8,
   "metadata": {},
   "outputs": [],
   "source": [
    "f = open('CIDs.txt','r')\n",
    "ctemp = f.readlines()\n",
    "f.close()\n",
    "f = open('names.txt','r')\n",
    "ntemp = f.readlines()\n",
    "f.close()\n",
    "f = open('Marks.txt','r')\n",
    "mtemp = f.readlines()\n",
    "f.close()\n",
    "marks = []\n",
    "for value in mtemp:\n",
    "    marks += [int(value)]\n",
    "\n",
    "# create the cohorts of Mech Eng\n",
    "ME = []\n",
    "for year in range(2019,2023):\n",
    "    ME += [Cohort(str(year))]\n",
    "\n",
    "Nstudents = len(ctemp)\n",
    "for i in range(Nstudents):\n",
    "    if int(ctemp[i]) < 2000:\n",
    "        pickCohort = ME[0]\n",
    "    elif 2000 <= int(ctemp[i]) < 4000:\n",
    "        pickCohort = ME[1]\n",
    "    elif 4000 <= int(ctemp[i]) < 6000:\n",
    "        pickCohort = ME[2]\n",
    "    else:\n",
    "        pickCohort = ME[3]\n",
    "        \n",
    "    pickCohort.students += [ Student(int(ctemp[i]),ntemp[i].rstrip(),marks[i*10:i*10+10]) ]\n",
    "\n"
   ]
  },
  {
   "cell_type": "code",
   "execution_count": 9,
   "metadata": {},
   "outputs": [
    {
     "name": "stdout",
     "output_type": "stream",
     "text": [
      "2019 Jakub\n",
      "Dean list:  ['Jakub', 'Poom', 'Alex']\n",
      "2020 Jason\n",
      "Dean list:  ['Jason', 'Giorgos']\n",
      "2021 Phuc\n",
      "Dean list:  ['Phuc', 'Shafi']\n",
      "2022 Sam\n",
      "Dean list:  ['Sam', 'Ziyi', 'Angelos', 'Darryl', 'Isabel', 'Maria']\n"
     ]
    }
   ],
   "source": [
    "for cohort in ME:\n",
    "    # determine average of each student\n",
    "    for stud in cohort.students:\n",
    "        stud.average = stud.FindAverage()\n",
    "\n",
    "    best = cohort.FindBestStudent()\n",
    "    print(cohort.year,best)\n",
    "    \n",
    "    dean = cohort.FindDeansList()\n",
    "    print('Dean list: ',dean)"
   ]
  },
  {
   "cell_type": "code",
   "execution_count": null,
   "metadata": {},
   "outputs": [],
   "source": []
  },
  {
   "cell_type": "code",
   "execution_count": 13,
   "metadata": {},
   "outputs": [],
   "source": []
  },
  {
   "cell_type": "code",
   "execution_count": null,
   "metadata": {},
   "outputs": [],
   "source": []
  }
 ],
 "metadata": {
  "kernelspec": {
   "display_name": "Python 3 (ipykernel)",
   "language": "python",
   "name": "python3"
  },
  "language_info": {
   "codemirror_mode": {
    "name": "ipython",
    "version": 3
   },
   "file_extension": ".py",
   "mimetype": "text/x-python",
   "name": "python",
   "nbconvert_exporter": "python",
   "pygments_lexer": "ipython3",
   "version": "3.9.13"
  }
 },
 "nbformat": 4,
 "nbformat_minor": 4
}
