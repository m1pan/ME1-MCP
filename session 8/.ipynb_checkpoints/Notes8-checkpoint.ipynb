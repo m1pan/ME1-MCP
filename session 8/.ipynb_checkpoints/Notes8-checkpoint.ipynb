{
 "cells": [
  {
   "cell_type": "code",
   "execution_count": null,
   "metadata": {},
   "outputs": [],
   "source": []
  },
  {
   "cell_type": "code",
   "execution_count": 1,
   "metadata": {},
   "outputs": [],
   "source": [
    "class Address:\n",
    "    ''' data about an address'''\n",
    "    \n",
    "    ''' attributes are: street, city '''\n",
    "    \n",
    "    def __init__(self, street = '', city = 'London'):\n",
    "        self.street = street\n",
    "        self.city = city\n",
    "        \n",
    "    def ChangeStreet(self,new):\n",
    "        self.street = new\n",
    "        \n",
    "    def ChangeCity(self,new):\n",
    "        self.city = new      "
   ]
  },
  {
   "cell_type": "code",
   "execution_count": 3,
   "metadata": {},
   "outputs": [
    {
     "name": "stdout",
     "output_type": "stream",
     "text": [
      "Exhibition Road Manchester\n",
      "Exhibition Road London\n"
     ]
    }
   ],
   "source": [
    "Ad1 = Address('Exhibition Road','Manchester')\n",
    "Ad2 = Address('Exhibition Road')\n",
    "\n",
    "print(Ad1.street,Ad1.city)\n",
    "print(Ad2.street,Ad2.city)"
   ]
  },
  {
   "cell_type": "code",
   "execution_count": null,
   "metadata": {},
   "outputs": [],
   "source": []
  },
  {
   "cell_type": "code",
   "execution_count": 4,
   "metadata": {},
   "outputs": [],
   "source": [
    "class Point:\n",
    "    ''' represents a 2D point '''\n",
    "    \n",
    "    ''' attributes are: x, y '''\n",
    "    \n",
    "    def __init__(self,xa = '', ya = ''):\n",
    "        self.x = xa\n",
    "        self.y = ya"
   ]
  },
  {
   "cell_type": "code",
   "execution_count": 5,
   "metadata": {},
   "outputs": [
    {
     "name": "stdout",
     "output_type": "stream",
     "text": [
      "3 4\n"
     ]
    }
   ],
   "source": [
    "P1 = Point(3,4)\n",
    "print(P1.x,P1.y)"
   ]
  },
  {
   "cell_type": "code",
   "execution_count": null,
   "metadata": {},
   "outputs": [],
   "source": []
  },
  {
   "cell_type": "code",
   "execution_count": null,
   "metadata": {},
   "outputs": [],
   "source": []
  },
  {
   "cell_type": "code",
   "execution_count": 29,
   "metadata": {},
   "outputs": [],
   "source": [
    "class Contact:\n",
    "    ''' data about an address'''\n",
    "    \n",
    "    ''' attributes are: email, tel '''\n",
    "    \n",
    "    def __init__(self, email = '', tel = ''):\n",
    "        self.email = email\n",
    "        self.tel = tel\n",
    "        \n",
    "    def ChangeEmail(self,new):\n",
    "        self.email = new\n",
    "        \n",
    "    def ChangeTel(self,new):\n",
    "        self.tel = new  "
   ]
  },
  {
   "cell_type": "code",
   "execution_count": 30,
   "metadata": {},
   "outputs": [],
   "source": [
    "class Person:\n",
    "    ''' data about an individual'''\n",
    "    \n",
    "    ''' attributes are: name, address, contact '''\n",
    " \n",
    "    def __init__(self, name = '',address=Address(), contact=Contact()):\n",
    "        self.name = name\n",
    "        self.address = address\n",
    "        self.contact = contact\n",
    "        \n",
    "    def ChangeName(self,new):\n",
    "        self.name = new"
   ]
  },
  {
   "cell_type": "code",
   "execution_count": 31,
   "metadata": {},
   "outputs": [
    {
     "name": "stdout",
     "output_type": "stream",
     "text": [
      "John\n",
      "Jonathan\n",
      "Exhibition Road\n"
     ]
    }
   ],
   "source": [
    "Person1 = Person('John')\n",
    "print(Person1.name)\n",
    "Person1.ChangeName('Jonathan')\n",
    "print(Person1.name)\n",
    "Ad = Address('Exhibition Road','Manchester')\n",
    "Cn = Contact('john@ic.ac.uk','0723848484')\n",
    "Person1.address = Ad\n",
    "Person1.contact = Cn\n",
    "print(Person1.address.street)"
   ]
  },
  {
   "cell_type": "code",
   "execution_count": 32,
   "metadata": {},
   "outputs": [
    {
     "name": "stdout",
     "output_type": "stream",
     "text": [
      "\n",
      "London\n",
      "Liverpool\n",
      "Leeds\n"
     ]
    }
   ],
   "source": [
    "Person2 = Person('Hanna')\n",
    "print(Person2.address.street)\n",
    "Person2.address.street = 'Exhibition Road'\n",
    "print(Person2.address.city)\n",
    "Person2.address.city = 'Liverpool'\n",
    "print(Person2.address.city)\n",
    "Person2.address.ChangeCity('Leeds')\n",
    "print(Person2.address.city)"
   ]
  },
  {
   "cell_type": "code",
   "execution_count": 33,
   "metadata": {},
   "outputs": [],
   "source": [
    "Person3 = Person('Paul')\n",
    "Person3.address.street = 'Piccadilly Circus'\n",
    "Person3.address.city = 'Southampton'"
   ]
  },
  {
   "cell_type": "code",
   "execution_count": 34,
   "metadata": {},
   "outputs": [],
   "source": [
    "class Account:\n",
    "    ''' defines a back account'''\n",
    "    \n",
    "    ''' attributes: sort code, acc number, balance'''\n",
    "    \n",
    "    def __init__(self, code='', number='', balance = ''):\n",
    "        self.code = code\n",
    "        self.number = number\n",
    "        self.balance = balance\n",
    "        \n",
    "    def MoveMoneyTo(self,accTo,value):\n",
    "        self.balance -= value\n",
    "        accTo.balance += value\n",
    "        "
   ]
  },
  {
   "cell_type": "code",
   "execution_count": 35,
   "metadata": {},
   "outputs": [],
   "source": [
    "class Client(Person):\n",
    "    ''' inherit the attributes and method of class Person '''\n",
    "    \n",
    "    ''' with another attribute: accounts'''\n",
    "    \n",
    "    def __init__(self, account=Account()):\n",
    "        self.account = account\n"
   ]
  },
  {
   "cell_type": "code",
   "execution_count": 36,
   "metadata": {},
   "outputs": [],
   "source": [
    "class Employee(Person):\n",
    "    ''' inherit the attributes and method of class Person '''\n",
    "    \n",
    "    ''' with another attribute: CID '''\n",
    "    \n",
    "    def __init__(self, cid=''):\n",
    "        self.cid = cid"
   ]
  },
  {
   "cell_type": "code",
   "execution_count": 40,
   "metadata": {},
   "outputs": [
    {
     "name": "stdout",
     "output_type": "stream",
     "text": [
      "Jonathan lives in Manchester\n",
      "Hanna lives in Piccadilly Circus, Southampton\n",
      "Hanna lives in Piccadilly Circus, Bristol\n"
     ]
    }
   ],
   "source": [
    "Client1 = Client()\n",
    "Client1 = Person1\n",
    "\n",
    "Employee1 = Employee()\n",
    "Employee1 = Person2\n",
    "\n",
    "print(Client1.name+' lives in '+Client1.address.city)\n",
    "print(Employee1.name+' lives in '+Employee1.address.street+', '+Employee1.address.city)\n",
    "Employee1.address.ChangeCity('Bristol')\n",
    "print(Employee1.name+' lives in '+Employee1.address.street+', '+Employee1.address.city)"
   ]
  },
  {
   "cell_type": "code",
   "execution_count": 41,
   "metadata": {},
   "outputs": [],
   "source": [
    "Client2 = Client()\n",
    "Client2 = Person3"
   ]
  },
  {
   "cell_type": "code",
   "execution_count": 42,
   "metadata": {},
   "outputs": [
    {
     "name": "stdout",
     "output_type": "stream",
     "text": [
      "45000 90000\n"
     ]
    }
   ],
   "source": [
    "Account1 = Account('20-02-98','345',45000)\n",
    "Account2 = Account('30-05-66','221',90000)\n",
    "print(Account1.balance,Account2.balance)"
   ]
  },
  {
   "cell_type": "code",
   "execution_count": null,
   "metadata": {},
   "outputs": [],
   "source": []
  },
  {
   "cell_type": "code",
   "execution_count": 43,
   "metadata": {},
   "outputs": [
    {
     "name": "stdout",
     "output_type": "stream",
     "text": [
      "44000 91000\n"
     ]
    }
   ],
   "source": [
    "Account1.MoveMoneyTo(Account2,1000)\n",
    "print(Account1.balance,Account2.balance)"
   ]
  },
  {
   "cell_type": "code",
   "execution_count": 44,
   "metadata": {},
   "outputs": [],
   "source": [
    "Client1.account = Account1\n",
    "Client2.account = Account2"
   ]
  },
  {
   "cell_type": "code",
   "execution_count": 45,
   "metadata": {},
   "outputs": [
    {
     "name": "stdout",
     "output_type": "stream",
     "text": [
      "43000 92000\n"
     ]
    }
   ],
   "source": [
    "Client1.account.MoveMoneyTo(Client2.account,1000)\n",
    "print(Account1.balance,Account2.balance)"
   ]
  },
  {
   "cell_type": "code",
   "execution_count": 47,
   "metadata": {},
   "outputs": [
    {
     "name": "stdout",
     "output_type": "stream",
     "text": [
      "Paul\n",
      "92000\n"
     ]
    }
   ],
   "source": [
    "Clients = [Client1, Client2]\n",
    "Employees = [Employee1]\n",
    "\n",
    "print(Clients[1].name)\n",
    "print(Clients[1].account.balance)"
   ]
  },
  {
   "cell_type": "code",
   "execution_count": 48,
   "metadata": {},
   "outputs": [],
   "source": [
    "class Bank:\n",
    "    ''' defines all the people associated with a bank'''\n",
    "    \n",
    "    ''' attributes: clients, employees, governance'''\n",
    "    "
   ]
  },
  {
   "cell_type": "code",
   "execution_count": 51,
   "metadata": {},
   "outputs": [
    {
     "name": "stdout",
     "output_type": "stream",
     "text": [
      "['Eda Reinlin - P', 'Henry Ford - VP business', 'Ros Patty - VP international']\n",
      "Jonathan\n",
      "43000\n"
     ]
    }
   ],
   "source": [
    "Barclays = Bank()\n",
    "Lloyds = Bank()\n",
    "\n",
    "Barclays.clients = [Client1, Client2]\n",
    "Barclays.employees = [Employee1]\n",
    "Barclays.governance = ['Eda Reinlin - P', 'Henry Ford - VP business','Ros Patty - VP international']\n",
    "\n",
    "print(Barclays.governance)\n",
    "print(Barclays.clients[0].name)\n",
    "print(Barclays.clients[0].account.balance)"
   ]
  },
  {
   "cell_type": "code",
   "execution_count": null,
   "metadata": {},
   "outputs": [],
   "source": []
  },
  {
   "cell_type": "code",
   "execution_count": null,
   "metadata": {},
   "outputs": [],
   "source": []
  }
 ],
 "metadata": {
  "kernelspec": {
   "display_name": "Python 3",
   "language": "python",
   "name": "python3"
  },
  "language_info": {
   "codemirror_mode": {
    "name": "ipython",
    "version": 3
   },
   "file_extension": ".py",
   "mimetype": "text/x-python",
   "name": "python",
   "nbconvert_exporter": "python",
   "pygments_lexer": "ipython3",
   "version": "3.7.4"
  }
 },
 "nbformat": 4,
 "nbformat_minor": 2
}
